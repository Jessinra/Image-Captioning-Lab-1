{
 "cells": [
  {
   "cell_type": "code",
   "execution_count": 1,
   "metadata": {},
   "outputs": [],
   "source": [
    "import tensorflow as tf\n",
    "tf.enable_eager_execution()"
   ]
  },
  {
   "cell_type": "code",
   "execution_count": 2,
   "metadata": {},
   "outputs": [],
   "source": [
    "import numpy as np\n",
    "import os\n",
    "import time\n",
    "import json\n",
    "import pickle\n",
    "from glob import glob\n",
    "from PIL import Image\n",
    "from tqdm import tqdm\n",
    "\n",
    "import matplotlib.pyplot as plt\n",
    "from sklearn.utils import shuffle"
   ]
  },
  {
   "cell_type": "code",
   "execution_count": 3,
   "metadata": {},
   "outputs": [
    {
     "name": "stderr",
     "output_type": "stream",
     "text": [
      "Using TensorFlow backend.\n"
     ]
    }
   ],
   "source": [
    "import keras as K"
   ]
  },
  {
   "cell_type": "code",
   "execution_count": 4,
   "metadata": {},
   "outputs": [],
   "source": [
    "config = tf.ConfigProto()\n",
    "config.gpu_options.allow_growth=True\n",
    "session = tf.Session(config=config)"
   ]
  },
  {
   "cell_type": "code",
   "execution_count": 5,
   "metadata": {},
   "outputs": [],
   "source": [
    "annotation_folder = '../Dataset/MSCOCO/annotations/'\n",
    "image_folder = '../Dataset/MSCOCO/train2014/'"
   ]
  },
  {
   "cell_type": "code",
   "execution_count": 6,
   "metadata": {},
   "outputs": [],
   "source": [
    "annotation_file = annotation_folder + 'captions_train2014.json'\n",
    "\n",
    "# Read the json file\n",
    "with open(annotation_file, 'r') as f:\n",
    "    annotations = json.load(f)"
   ]
  },
  {
   "cell_type": "code",
   "execution_count": 7,
   "metadata": {},
   "outputs": [],
   "source": [
    "NUM_SAMPLES = 300\n",
    "\n",
    "\n",
    "# Store captions and image names\n",
    "all_captions = []\n",
    "all_img_paths = []\n",
    "\n",
    "for annot in annotations['annotations']:\n",
    "    caption = \"START \" + annot['caption']\n",
    "    image_id = annot['image_id']\n",
    "    img_path = image_folder + 'COCO_train2014_' + '%012d.jpg' % (image_id)\n",
    "\n",
    "    all_img_paths.append(img_path)\n",
    "    all_captions.append(caption)\n",
    "\n",
    "# Shuffle captions and image_names together\n",
    "all_captions, all_img_paths = shuffle(all_captions, all_img_paths, random_state=1)\n",
    "train_captions = all_captions[:NUM_SAMPLES]\n",
    "train_img_paths = all_img_paths[:NUM_SAMPLES]"
   ]
  },
  {
   "cell_type": "code",
   "execution_count": 8,
   "metadata": {},
   "outputs": [
    {
     "name": "stdout",
     "output_type": "stream",
     "text": [
      "len train_captions : 300\n",
      "len all_captions : 414113\n"
     ]
    }
   ],
   "source": [
    "print(\"len train_captions :\", len(train_img_paths))\n",
    "print(\"len all_captions :\", len(all_img_paths))"
   ]
  },
  {
   "cell_type": "markdown",
   "metadata": {},
   "source": [
    "## Encoder"
   ]
  },
  {
   "cell_type": "code",
   "execution_count": 9,
   "metadata": {
    "scrolled": false
   },
   "outputs": [],
   "source": [
    "MODEL_TYPE = \"xception\"\n",
    "\n",
    "\n",
    "def get_encoder(model_type=MODEL_TYPE):\n",
    "\n",
    "    if model_type == \"xception\":\n",
    "        cnn_preprocessor = tf.keras.applications.xception\n",
    "        cnn_model = tf.keras.applications.Xception(include_top=False, weights='imagenet')\n",
    "\n",
    "    elif model_type == \"inception_v3\":\n",
    "        cnn_preprocessor = tf.keras.applications.inception_v3\n",
    "        cnn_model = tf.keras.applications.InceptionV3(include_top=False, weights='imagenet')\n",
    "\n",
    "    input_layer = cnn_model.input\n",
    "    output_layer = cnn_model.layers[-1].output # use last hidden layer as output\n",
    "    \n",
    "    encoder = tf.keras.Model(input_layer, output_layer)\n",
    "    encoder_preprocessor = cnn_preprocessor\n",
    "    \n",
    "    return encoder, encoder_preprocessor\n",
    "\n",
    "\n",
    "encoder, encoder_preprocessor = get_encoder(MODEL_TYPE)"
   ]
  },
  {
   "cell_type": "code",
   "execution_count": 10,
   "metadata": {},
   "outputs": [],
   "source": [
    "IMAGE_SIZE = (299, 299)\n",
    "\n",
    "\n",
    "def load_image(image_path):\n",
    "\n",
    "    image = tf.io.read_file(image_path)\n",
    "    image = tf.image.decode_jpeg(image, channels=3)\n",
    "    image = tf.image.resize(image, IMAGE_SIZE)\n",
    "    image = encoder_preprocessor.preprocess_input(image)\n",
    "    \n",
    "    return image, image_path"
   ]
  },
  {
   "cell_type": "markdown",
   "metadata": {},
   "source": [
    "## Prepare Image dataset"
   ]
  },
  {
   "cell_type": "code",
   "execution_count": 11,
   "metadata": {},
   "outputs": [],
   "source": [
    "BATCH_SIZE = 8\n",
    "\n",
    "# Get unique images\n",
    "unique_train_img_paths = sorted(set(train_img_paths))\n",
    "\n",
    "# Prepare dataset\n",
    "image_dataset = tf.data.Dataset.from_tensor_slices(unique_train_img_paths)\n",
    "image_dataset = image_dataset.map(load_image, num_parallel_calls=tf.data.experimental.AUTOTUNE) # use max num of CPU\n",
    "image_dataset = image_dataset.batch(BATCH_SIZE)"
   ]
  },
  {
   "cell_type": "code",
   "execution_count": 12,
   "metadata": {},
   "outputs": [
    {
     "name": "stdout",
     "output_type": "stream",
     "text": [
      "estimated_batch_count 38.5\n"
     ]
    }
   ],
   "source": [
    "estimated_batch_count = NUM_SAMPLES / BATCH_SIZE + 1\n",
    "print(\"estimated_batch_count\", estimated_batch_count)"
   ]
  },
  {
   "cell_type": "code",
   "execution_count": 13,
   "metadata": {},
   "outputs": [
    {
     "name": "stderr",
     "output_type": "stream",
     "text": [
      "38it [00:08,  4.32it/s]\n"
     ]
    }
   ],
   "source": [
    "# Preprocessed image (batch)\n",
    "for batch_imgs, batch_img_paths in tqdm(image_dataset):\n",
    "    \n",
    "    # get context vector of batch images\n",
    "    batch_features = encoder(batch_imgs)\n",
    "    \n",
    "    # flatten 2D cnn result into 1D for RNN decoder input\n",
    "    # (batch_size, 10, 10, 2048)  => (batch_size, 100, 2048)\n",
    "    batch_features = tf.reshape(batch_features, (batch_features.shape[0], -1, batch_features.shape[3]))\n",
    "    \n",
    "    # Cache preprocessed image\n",
    "    for image_feature, image_path in zip(batch_features, batch_img_paths):\n",
    "        image_path = image_path.numpy().decode(\"utf-8\")\n",
    "        np.save(image_path, image_feature.numpy())"
   ]
  },
  {
   "cell_type": "markdown",
   "metadata": {},
   "source": [
    "## Prepare Tokenizer"
   ]
  },
  {
   "cell_type": "code",
   "execution_count": 14,
   "metadata": {},
   "outputs": [],
   "source": [
    "import torch\n",
    "from pytorch_pretrained_bert import BertTokenizer, BertModel\n",
    "from keras.preprocessing.text import Tokenizer"
   ]
  },
  {
   "cell_type": "code",
   "execution_count": 15,
   "metadata": {},
   "outputs": [],
   "source": [
    "TOKENIZER = \"BERT\"\n",
    "VOCAB_SIZE = 5000  # Choose the top-n words from the vocabulary"
   ]
  },
  {
   "cell_type": "code",
   "execution_count": 16,
   "metadata": {},
   "outputs": [],
   "source": [
    "class BertTokenizerWrapper(BertTokenizer):\n",
    "\n",
    "    def texts_to_sequences(self, texts):\n",
    "        \"\"\"\n",
    "        convert batch texts into indexed version\n",
    "        eg: ['an apple', 'two person']\n",
    "        output: [[1037,17260], [2083, 2711]] \n",
    "        \"\"\"\n",
    "        \n",
    "        tokenized_texts = [self.tokenize(x) for x in texts]\n",
    "        token_ids = [self.convert_tokens_to_ids(x) for x in tokenized_texts]\n",
    "        \n",
    "        return token_ids"
   ]
  },
  {
   "cell_type": "code",
   "execution_count": 17,
   "metadata": {},
   "outputs": [],
   "source": [
    "class TokenizerWrapper(Tokenizer):\n",
    "    \n",
    "    def convert_tokens_to_ids(self, tokens):\n",
    "        return [self.word_index[x] for x in tokens]"
   ]
  },
  {
   "cell_type": "code",
   "execution_count": 18,
   "metadata": {},
   "outputs": [],
   "source": [
    "if TOKENIZER == \"BERT\" :\n",
    "\n",
    "    # Load pre-trained BERT tokenizer (vocabulary)\n",
    "    tokenizer = BertTokenizerWrapper.from_pretrained('bert-base-uncased')\n",
    "    \n",
    "else : \n",
    "    \n",
    "    # use default keras tokenizer\n",
    "    tokenizer = TokenizerWrapper(num_words=VOCAB_SIZE, oov_token=\"[UNK]\")\n",
    "    tokenizer.fit_on_texts(train_captions)    \n",
    "    tokenizer.word_index['[PAD]'] = 0\n",
    "    tokenizer.index_word[0] = '[PAD]'"
   ]
  },
  {
   "cell_type": "code",
   "execution_count": 19,
   "metadata": {},
   "outputs": [],
   "source": [
    "train_captions = tokenizer.texts_to_sequences(train_captions)"
   ]
  },
  {
   "cell_type": "markdown",
   "metadata": {},
   "source": [
    "## Pad sequence"
   ]
  },
  {
   "cell_type": "code",
   "execution_count": 20,
   "metadata": {},
   "outputs": [],
   "source": [
    "from keras.preprocessing.sequence import pad_sequences\n",
    "\n",
    "# If you do not provide a max_length value, pad_sequences calculates it automatically\n",
    "MAX_LENGTH = None  # use <int> or None\n",
    "\n",
    "\n",
    "train_captions = pad_sequences(train_captions, maxlen=MAX_LENGTH, padding='post', truncating=\"post\")"
   ]
  },
  {
   "cell_type": "markdown",
   "metadata": {},
   "source": [
    "## Create dataset object"
   ]
  },
  {
   "cell_type": "code",
   "execution_count": 21,
   "metadata": {},
   "outputs": [],
   "source": [
    "# Load the numpy files\n",
    "def load_image_npy(img_name, cap):\n",
    "    img_tensor = np.load(img_name.decode('utf-8') + '.npy')\n",
    "    return img_tensor, cap"
   ]
  },
  {
   "cell_type": "code",
   "execution_count": 22,
   "metadata": {},
   "outputs": [],
   "source": [
    "# Create dataset object\n",
    "from tensorflow.data import Dataset\n",
    "dataset = Dataset.from_tensor_slices((train_img_paths, train_captions))\n",
    "\n",
    "# Use map to load the numpy files in parallel\n",
    "# wrap function into numpy function\n",
    "dataset = dataset.map(lambda item1, item2: tf.numpy_function(\n",
    "          load_image_npy, [item1, item2], [tf.float32, tf.int32]),\n",
    "          num_parallel_calls=tf.data.experimental.AUTOTUNE)"
   ]
  },
  {
   "cell_type": "code",
   "execution_count": 23,
   "metadata": {},
   "outputs": [],
   "source": [
    "# Shuffle and batch\n",
    "dataset = dataset.shuffle(1000).batch(BATCH_SIZE)\n",
    "dataset = dataset.prefetch(buffer_size=tf.data.experimental.AUTOTUNE)"
   ]
  },
  {
   "cell_type": "markdown",
   "metadata": {},
   "source": [
    "## Split train eval test"
   ]
  },
  {
   "cell_type": "code",
   "execution_count": 24,
   "metadata": {},
   "outputs": [],
   "source": [
    "# Split dataset \n",
    "\n",
    "TRAIN_SPLIT = 0.7\n",
    "EVAL_SPLIT = 0.15\n",
    "TEST_SPLIT = 0.15  # approx\n",
    "\n",
    "n_batch = int(NUM_SAMPLES / BATCH_SIZE) + 1\n",
    "n_train = int(n_batch * 0.7)\n",
    "n_eval = int(n_batch * 0.15)\n",
    "n_test = n_batch - (n_train + n_eval)\n",
    "\n",
    "train_dataset = dataset.take(n_train)\n",
    "eval_dataset = dataset.skip(n_train).take(n_eval)\n",
    "test_dataset = dataset.skip(n_train + n_eval)\n",
    "\n",
    "\n",
    "# \"\"\"\n",
    "# dataset => tuple of (image, captions)\n",
    "# image   => (batch_size = 8, 100, 2048)\n",
    "# caption => (batch_size = 8, max_length)\n",
    "# \"\"\""
   ]
  },
  {
   "cell_type": "code",
   "execution_count": 25,
   "metadata": {},
   "outputs": [
    {
     "name": "stdout",
     "output_type": "stream",
     "text": [
      "train: 26 batches, (total : 208)\n",
      "eval : 5 batches, (total : 40)\n",
      "test : 7 batches, (total : 56 (aprx))\n"
     ]
    }
   ],
   "source": [
    "print(\"train: {} batches, (total : {})\".format(n_train, n_train * BATCH_SIZE))\n",
    "print(\"eval : {} batches, (total : {})\".format(n_eval, n_eval * BATCH_SIZE))\n",
    "print(\"test : {} batches, (total : {} (aprx))\".format(n_test, n_test * BATCH_SIZE))"
   ]
  },
  {
   "cell_type": "markdown",
   "metadata": {},
   "source": [
    "# Model"
   ]
  },
  {
   "cell_type": "markdown",
   "metadata": {},
   "source": [
    "## Encoder"
   ]
  },
  {
   "cell_type": "code",
   "execution_count": 40,
   "metadata": {},
   "outputs": [],
   "source": [
    "from tensorflow.keras.layers import Dense\n",
    "\n",
    "\n",
    "class CNN_Encoder(tf.keras.Model):\n",
    "    \n",
    "    # Image features are extracted and saved already\n",
    "    # This encoder passes those features through a Fully connected layer\n",
    "\n",
    "    def __init__(self, output_dim=256):\n",
    "        super(CNN_Encoder, self).__init__()\n",
    "        self.fc = Dense(output_dim, activation=\"relu\")\n",
    "\n",
    "    def call(self, x):\n",
    "        \n",
    "        x = self.fc(x)\n",
    "        return x\n",
    "    \n",
    "        \"\"\"\n",
    "        return => (batch_size, 64, output_dim)\n",
    "        \"\"\""
   ]
  },
  {
   "cell_type": "markdown",
   "metadata": {},
   "source": [
    "## CNN Attention"
   ]
  },
  {
   "cell_type": "code",
   "execution_count": 41,
   "metadata": {},
   "outputs": [],
   "source": [
    "from tensorflow.keras.layers import Dense\n",
    "\n",
    "\n",
    "class BahdanauAttention(tf.keras.Model):\n",
    "    \n",
    "    def __init__(self, units):\n",
    "        super(BahdanauAttention, self).__init__()\n",
    "        self.W1 = Dense(units)\n",
    "        self.W2 = Dense(units)\n",
    "        self.V = Dense(1)\n",
    "\n",
    "    def call(self, features, hidden):\n",
    "        \n",
    "        hidden_with_time_axis = tf.expand_dims(hidden, 1)\n",
    "        score = tf.nn.tanh(self.W1(features) + self.W2(hidden_with_time_axis))\n",
    "\n",
    "        # you get 1 at the last axis because you are applying score to self.V\n",
    "        attention_weights = tf.nn.softmax(self.V(score), axis=1)\n",
    "        \n",
    "        context_vector = attention_weights * features\n",
    "        context_vector = tf.reduce_sum(context_vector, axis=1)\n",
    "\n",
    "        return context_vector, attention_weights\n",
    "    \n",
    "    \n",
    "        \"\"\"\n",
    "        features (CNN_encoder output) => (batch_size, 64, embedding_dim)\n",
    "        hidden                        => (batch_size, hidden_size = ??)\n",
    "        \n",
    "        hidden_with_time_axis => (batch_size, 1, hidden_size)\n",
    "        score                 => (batch_size, 64, hidden_size)\n",
    "        attention_weights     => (batch_size, 64, 1)\n",
    "        context_vector (after sum) => (batch_size, hidden_size)\n",
    "        \"\"\""
   ]
  },
  {
   "cell_type": "code",
   "execution_count": 42,
   "metadata": {},
   "outputs": [],
   "source": [
    "from tensorflow.keras.optimizers import Adam\n",
    "from tensorflow.keras.losses import SparseCategoricalCrossentropy\n",
    "\n",
    "\n",
    "optimizer = Adam()\n",
    "loss_object = SparseCategoricalCrossentropy(from_logits=True, reduction='none')\n",
    "\n",
    "\n",
    "def loss_function(real, pred):\n",
    "    \n",
    "    mask = tf.math.logical_not(tf.math.equal(real, 0))\n",
    "    loss_ = loss_object(real, pred)\n",
    "    \n",
    "    mask = tf.cast(mask, dtype=loss_.dtype)\n",
    "    loss_ *= mask\n",
    "    \n",
    "    return tf.reduce_mean(loss_)\n",
    "\n",
    "\n",
    "    \"\"\"\n",
    "    real => (batch_size = 8, (1))\n",
    "    pred => (batch_size = 8, vocab_size)\n",
    "    mask => Tensor(\"Cast:0\", shape=(batch_size,), dtype=float32)\n",
    "    loss_ => Tensor(\"sparse_categorical_crossentropy/weighted_loss/Mul:0\", shape=(batch_size,), dtype=float32)\n",
    "\n",
    "    return => Tensor(\"Mean:0\", shape=(), dtype=float32)\n",
    "    \"\"\""
   ]
  },
  {
   "cell_type": "markdown",
   "metadata": {},
   "source": [
    "## Decoder"
   ]
  },
  {
   "cell_type": "code",
   "execution_count": 43,
   "metadata": {},
   "outputs": [],
   "source": [
    "from tensorflow.keras.layers import Dense, Embedding, LSTM, GRU\n",
    "from pytorch_pretrained_bert import BertModel\n",
    "\n",
    "\n",
    "WORD_EMBEDDING = \"BERT\"\n",
    "RNN_TYPE = \"LSTM\"\n",
    "\n",
    "\n",
    "class RNN_Decoder(tf.keras.Model):\n",
    "    \n",
    "    \n",
    "    def __init__(self, rnn_type=\"LSTM\", rnn_units=32, \n",
    "                 embedding_type=\"BERT\", embedding_dim=256, \n",
    "                 combine_strategy=\"merge\", combine_layer=\"add\",\n",
    "                 vocab_size=5000):\n",
    "        \n",
    "        super(RNN_Decoder, self).__init__()\n",
    "        self.rnn_units = rnn_units\n",
    "        self.rnn_type = rnn_type\n",
    "        self.embedding_type = embedding_type\n",
    "        self.combine_strategy = combine_strategy # [\"inject\", \"merge\"]\n",
    "        self.combine_layer = combine_layer # [\"inject\", \"merge\"]\n",
    "        \n",
    "        self._init_embedding()\n",
    "        self._init_rnn()\n",
    "           \n",
    "        # dense layer to choose word to generate\n",
    "        self.fc1 = Dense(self.rnn_units)\n",
    "        self.fc2 = Dense(vocab_size) # same size as vocab\n",
    "\n",
    "        # attention layer for image (CNN encoder output)\n",
    "        self.attention = BahdanauAttention(self.rnn_units)\n",
    "        \n",
    "        \n",
    "    def _init_embedding(self):\n",
    "        \n",
    "        # embedding layer (process tokenized caption into vector)\n",
    "        if self.embedding_type == \"BERT\":\n",
    "            self.bert_embedding = BertModel.from_pretrained('bert-base-uncased')\n",
    "            self.bert_embedding.to('cuda')\n",
    "            \n",
    "        else:\n",
    "            self.default_embedding = Embedding(vocab_size, embedding_dim)\n",
    "        \n",
    "        \n",
    "    def _init_rnn(self):\n",
    "        \n",
    "        # rnn layer for captions sequence and/or image's context vector'\n",
    "        \n",
    "        if self.rnn_type == \"LSTM\":\n",
    "            self.lstm = LSTM(self.rnn_units,\n",
    "                         return_sequences=True,\n",
    "                         return_state=True,\n",
    "                         recurrent_initializer='glorot_uniform')\n",
    "        \n",
    "        elif self.rnn_type == \"GRU\":\n",
    "            self.gru = GRU(self.rnn_units,\n",
    "                           return_sequences=True,\n",
    "                           return_state=True,\n",
    "                           recurrent_initializer='glorot_uniform')\n",
    "        else:\n",
    "            raise Exception('RNN type not supported yet (LSTM / GRU only)')\n",
    "        \n",
    "        \n",
    "    def embedding(self, x):\n",
    "        \"\"\"\n",
    "        Get BERT's embedding for text tokens\n",
    "        \n",
    "        x (Text tokens) => (batch_size, 1)\n",
    "        \"\"\"\n",
    "        \n",
    "        if self.embedding_type == \"BERT\": \n",
    "            return self._bert_embedding(x)\n",
    "        else:\n",
    "            return self._default_embedding(x)\n",
    "        \n",
    "        \n",
    "    def _bert_embedding(self, x, output_layer=11):\n",
    "\n",
    "        # Format as torch Tensor\n",
    "        x = torch.as_tensor(x.numpy())\n",
    "        x = x.type(torch.LongTensor).to('cuda')\n",
    "        \n",
    "        # BERT's embedding\n",
    "        with torch.no_grad():\n",
    "            embedding , _ = self.bert_embedding(x)\n",
    "\n",
    "        # Revert back to tf.Tensor\n",
    "        x = embedding[output_layer].cpu().numpy()\n",
    "        x = tf.convert_to_tensor(x)\n",
    "            \n",
    "        return x\n",
    "    \n",
    "    \n",
    "    def _default_embedding(self, x):\n",
    "        return self.default_embedding(x)\n",
    "    \n",
    "    \n",
    "    def rnn_model(self, x):\n",
    "        \n",
    "        if self.rnn_type == \"LSTM\":\n",
    "            output, h_state, c_state = self.lstm(x)\n",
    "            \n",
    "        elif self.rnn_type == \"GRU\":\n",
    "            output, h_state = self.gru(x)\n",
    "            \n",
    "        else:\n",
    "            raise Exception('RNN type not supported yet (LSTM / GRU only)')\n",
    "        \n",
    "        return output, h_state\n",
    "    \n",
    "    \n",
    "    \n",
    "    def custom_combine_layer(self, x, y, strategy=\"add\"):\n",
    "        if self.combine_layer == \"add\":\n",
    "            return self._add_layer(x, y)\n",
    "        else:\n",
    "            return self._concat_layer(x, y)\n",
    "\n",
    "        \n",
    "    def _add_layer(self, x, y):\n",
    "        \n",
    "        if x.shape[1] != y.shape[1] :\n",
    "            exception = \"Cannot combine using 'add' strategy, both tensor has different shape {} & {}\"\n",
    "            raise Exception(exception.format(x.shape, y.shape))\n",
    "            \n",
    "        return tf.keras.layers.add([x, y])\n",
    "            \n",
    "        \n",
    "    def _concat_layer(self, x, y):\n",
    "        return tf.concat([x, y], axis=-1)\n",
    "        \n",
    "    \n",
    "    def call(self, x, features, hidden):\n",
    "        \"\"\" \n",
    "        this using inject method,\n",
    "        image's feature injected at every timestep \n",
    "        \n",
    "        x : decoder input, also last word generated => (batch_size, 1)\n",
    "        \"\"\"\n",
    "        \n",
    "        # defining attention as a separate model\n",
    "        context_vector, attention_weights = self.attention(features, hidden)\n",
    "        context_vector = tf.expand_dims(context_vector, 1)\n",
    "\n",
    "        # x1 => (batch_size, 1, embedding_dim)\n",
    "        x1 = self.embedding(x)\n",
    "\n",
    "        \n",
    "        if self.combine_strategy == \"inject\":\n",
    "            \n",
    "            # x1 => (batch_size = 8, 1, combined_output_size)\n",
    "            x1 = self.custom_combine_layer(context_vector, x1)\n",
    "\n",
    "        # passing the concatenated vector to the RNN\n",
    "        output, state = self.rnn_model(x1)\n",
    "        \n",
    "        ## ============================================\n",
    "        ## TODO: add another attention layer ? \n",
    "        ## ============================================\n",
    "                \n",
    "        if self.combine_strategy == \"merge\":\n",
    "            \n",
    "            # output => (batchsize = 8, 1, combined_output_size)\n",
    "            output = self.custom_combine_layer(context_vector, output)\n",
    "\n",
    "        # x3 shape => (batch_size, 1, rnn_units = 32)\n",
    "        x3 = self.fc1(output)\n",
    "\n",
    "        # x4 => (batch_size, rnn_units = 32)\n",
    "        x4 = tf.reshape(x3, (-1, x3.shape[2]))\n",
    "\n",
    "        # word_predictions => (batch_size, vocab)\n",
    "        word_predictions = self.fc2(x4)\n",
    "        \n",
    "        ## ====================================================\n",
    "        ## TODO: add PPLM framework here\n",
    "        ## feed-forward, find gradient, apply gradient, feed-forward again \n",
    "        ## ====================================================\n",
    "        \n",
    "        return word_predictions, state, attention_weights\n",
    "\n",
    "    def reset_state(self, batch_size):\n",
    "        return tf.zeros((batch_size, self.rnn_units))"
   ]
  },
  {
   "cell_type": "code",
   "execution_count": 44,
   "metadata": {},
   "outputs": [],
   "source": [
    "# @tf.function\n",
    "\n",
    "STRATEGY = \"inject_par\" # [\"inject_par\", \"inject_pre\", \"inject_init\", \"merge\"]\n",
    "\n",
    "\n",
    "def train_step(img_tensor, target):\n",
    "    \n",
    "    loss = 0\n",
    "    batch_size = target.shape[0]\n",
    "    \n",
    "    ## Get image context vector\n",
    "    features = encoder(img_tensor)\n",
    "    \n",
    "    # initializing the hidden state for each batch\n",
    "    # because the captions are not related from image to image\n",
    "    if STRATEGY == \"inject_init\":\n",
    "        hidden = features\n",
    "    else:\n",
    "        hidden = decoder.reset_state(batch_size=batch_size)\n",
    "        \n",
    "\n",
    "    ## decoder_input == last word generated\n",
    "    if STRATEGY == \"inject_pre\":\n",
    "        decoder_input = features\n",
    "    else:\n",
    "        decoder_input = tf.expand_dims(target[:, 0], 1)\n",
    "\n",
    "    \n",
    "    with tf.GradientTape() as tape:\n",
    "\n",
    "        for i in range(1, target.shape[1]):\n",
    "            \n",
    "            # passing the features through the decoder\n",
    "            predictions, hidden, _ = decoder(decoder_input, features, hidden)\n",
    "            \n",
    "            # loss => Tensor(\"add:0\", shape=(), dtype=float32)\n",
    "            loss += loss_function(target[:, i], predictions)\n",
    "            \n",
    "            # using teacher forcing\n",
    "            decoder_input = tf.expand_dims(target[:, i], 1)\n",
    "\n",
    "            \n",
    "    total_loss = (loss / int(target.shape[1]))\n",
    "\n",
    "    trainable_variables = encoder.trainable_variables + decoder.trainable_variables\n",
    "\n",
    "    gradients = tape.gradient(loss, trainable_variables)\n",
    "\n",
    "    optimizer.apply_gradients(zip(gradients, trainable_variables))\n",
    "\n",
    "    return loss, total_loss\n",
    "\n",
    "\n",
    "\n",
    "    \"\"\"\n",
    "    predictions => (batch_size, vocab_size)\n",
    "    decoder_input => tf.Tensor: id=11841, shape=(batch_size, 1), dtype=int32\n",
    "    \n",
    "    \"\"\""
   ]
  },
  {
   "cell_type": "code",
   "execution_count": 45,
   "metadata": {},
   "outputs": [],
   "source": [
    "UNITS = 32\n",
    "IMAGE_FEATURE_DIM = 256\n",
    "WORD_EMBEDDING_DIM = 768 # BERT's embedding dim\n",
    "VOCAB_SIZE = len(tokenizer.vocab.keys()) # BERT's vocab size\n",
    "\n",
    "# WORD_EMBEDDING_DIM = 256\n",
    "# VOCAB_SIZE = 3000\n",
    "\n",
    "\n",
    "encoder = CNN_Encoder(\n",
    "    output_dim=IMAGE_FEATURE_DIM\n",
    ")\n",
    "\n",
    "decoder = RNN_Decoder(\n",
    "    rnn_type=\"LSTM\",\n",
    "    rnn_units=UNITS,\n",
    "    embedding_type=\"BERT\",\n",
    "    embedding_dim=WORD_EMBEDDING_DIM,  \n",
    "    combine_strategy=\"inject\", combine_layer=\"concat\",\n",
    "    vocab_size=VOCAB_SIZE\n",
    ")"
   ]
  },
  {
   "cell_type": "markdown",
   "metadata": {},
   "source": [
    "## Setup training"
   ]
  },
  {
   "cell_type": "code",
   "execution_count": 46,
   "metadata": {},
   "outputs": [],
   "source": [
    "! rm -rf checkpoints"
   ]
  },
  {
   "cell_type": "code",
   "execution_count": 47,
   "metadata": {},
   "outputs": [],
   "source": [
    "checkpoint_path = \"./checkpoints/train\"\n",
    "ckpt = tf.train.Checkpoint(encoder=encoder,\n",
    "                           decoder=decoder,\n",
    "                           optimizer = optimizer)\n",
    "ckpt_manager = tf.train.CheckpointManager(ckpt, checkpoint_path, max_to_keep=5)"
   ]
  },
  {
   "cell_type": "code",
   "execution_count": 48,
   "metadata": {},
   "outputs": [],
   "source": [
    "start_epoch = 0\n",
    "if ckpt_manager.latest_checkpoint:\n",
    "    start_epoch = int(ckpt_manager.latest_checkpoint.split('-')[-1])\n",
    "    \n",
    "    # restoring the latest checkpoint in checkpoint_path\n",
    "    ckpt.restore(ckpt_manager.latest_checkpoint)"
   ]
  },
  {
   "cell_type": "code",
   "execution_count": 49,
   "metadata": {},
   "outputs": [],
   "source": [
    "# adding this in a separate cell because if you run the training cell\n",
    "# many times, the loss_plot array will be reset\n",
    "loss_plot = []"
   ]
  },
  {
   "cell_type": "markdown",
   "metadata": {},
   "source": [
    "## Actual training"
   ]
  },
  {
   "cell_type": "code",
   "execution_count": 50,
   "metadata": {},
   "outputs": [
    {
     "name": "stderr",
     "output_type": "stream",
     "text": [
      "0it [00:00, ?it/s]W0210 22:59:04.716404 139687631705920 optimizer_v2.py:979] Gradients does not exist for variables ['cnn__encoder_1/dense_6/kernel:0', 'cnn__encoder_1/dense_6/bias:0'] when minimizing the loss.\n",
      "1it [00:01,  1.81s/it]"
     ]
    },
    {
     "name": "stdout",
     "output_type": "stream",
     "text": [
      "Epoch 1 Batch 0 Loss 3.6576\n"
     ]
    },
    {
     "name": "stderr",
     "output_type": "stream",
     "text": [
      "W0210 22:59:05.920240 139687631705920 optimizer_v2.py:979] Gradients does not exist for variables ['cnn__encoder_1/dense_6/kernel:0', 'cnn__encoder_1/dense_6/bias:0'] when minimizing the loss.\n",
      "2it [00:02,  1.61s/it]W0210 22:59:07.093510 139687631705920 optimizer_v2.py:979] Gradients does not exist for variables ['cnn__encoder_1/dense_6/kernel:0', 'cnn__encoder_1/dense_6/bias:0'] when minimizing the loss.\n",
      "3it [00:04,  1.48s/it]W0210 22:59:08.278572 139687631705920 optimizer_v2.py:979] Gradients does not exist for variables ['cnn__encoder_1/dense_6/kernel:0', 'cnn__encoder_1/dense_6/bias:0'] when minimizing the loss.\n",
      "4it [00:05,  1.39s/it]W0210 22:59:09.624444 139687631705920 optimizer_v2.py:979] Gradients does not exist for variables ['cnn__encoder_1/dense_6/kernel:0', 'cnn__encoder_1/dense_6/bias:0'] when minimizing the loss.\n",
      "5it [00:06,  1.38s/it]W0210 22:59:10.791342 139687631705920 optimizer_v2.py:979] Gradients does not exist for variables ['cnn__encoder_1/dense_6/kernel:0', 'cnn__encoder_1/dense_6/bias:0'] when minimizing the loss.\n",
      "6it [00:07,  1.32s/it]W0210 22:59:11.956666 139687631705920 optimizer_v2.py:979] Gradients does not exist for variables ['cnn__encoder_1/dense_6/kernel:0', 'cnn__encoder_1/dense_6/bias:0'] when minimizing the loss.\n",
      "7it [00:09,  1.27s/it]W0210 22:59:13.123088 139687631705920 optimizer_v2.py:979] Gradients does not exist for variables ['cnn__encoder_1/dense_6/kernel:0', 'cnn__encoder_1/dense_6/bias:0'] when minimizing the loss.\n",
      "8it [00:10,  1.24s/it]W0210 22:59:14.290271 139687631705920 optimizer_v2.py:979] Gradients does not exist for variables ['cnn__encoder_1/dense_6/kernel:0', 'cnn__encoder_1/dense_6/bias:0'] when minimizing the loss.\n",
      "9it [00:11,  1.22s/it]W0210 22:59:15.456096 139687631705920 optimizer_v2.py:979] Gradients does not exist for variables ['cnn__encoder_1/dense_6/kernel:0', 'cnn__encoder_1/dense_6/bias:0'] when minimizing the loss.\n",
      "10it [00:12,  1.20s/it]W0210 22:59:16.770183 139687631705920 optimizer_v2.py:979] Gradients does not exist for variables ['cnn__encoder_1/dense_6/kernel:0', 'cnn__encoder_1/dense_6/bias:0'] when minimizing the loss.\n",
      "11it [00:13,  1.24s/it]W0210 22:59:17.937262 139687631705920 optimizer_v2.py:979] Gradients does not exist for variables ['cnn__encoder_1/dense_6/kernel:0', 'cnn__encoder_1/dense_6/bias:0'] when minimizing the loss.\n",
      "12it [00:14,  1.22s/it]W0210 22:59:19.102513 139687631705920 optimizer_v2.py:979] Gradients does not exist for variables ['cnn__encoder_1/dense_6/kernel:0', 'cnn__encoder_1/dense_6/bias:0'] when minimizing the loss.\n",
      "13it [00:16,  1.20s/it]W0210 22:59:20.268681 139687631705920 optimizer_v2.py:979] Gradients does not exist for variables ['cnn__encoder_1/dense_6/kernel:0', 'cnn__encoder_1/dense_6/bias:0'] when minimizing the loss.\n",
      "14it [00:17,  1.19s/it]W0210 22:59:21.441089 139687631705920 optimizer_v2.py:979] Gradients does not exist for variables ['cnn__encoder_1/dense_6/kernel:0', 'cnn__encoder_1/dense_6/bias:0'] when minimizing the loss.\n",
      "15it [00:18,  1.18s/it]W0210 22:59:22.607433 139687631705920 optimizer_v2.py:979] Gradients does not exist for variables ['cnn__encoder_1/dense_6/kernel:0', 'cnn__encoder_1/dense_6/bias:0'] when minimizing the loss.\n",
      "16it [00:19,  1.18s/it]W0210 22:59:23.773171 139687631705920 optimizer_v2.py:979] Gradients does not exist for variables ['cnn__encoder_1/dense_6/kernel:0', 'cnn__encoder_1/dense_6/bias:0'] when minimizing the loss.\n",
      "17it [00:20,  1.18s/it]W0210 22:59:25.078518 139687631705920 optimizer_v2.py:979] Gradients does not exist for variables ['cnn__encoder_1/dense_6/kernel:0', 'cnn__encoder_1/dense_6/bias:0'] when minimizing the loss.\n",
      "18it [00:22,  1.21s/it]W0210 22:59:26.240485 139687631705920 optimizer_v2.py:979] Gradients does not exist for variables ['cnn__encoder_1/dense_6/kernel:0', 'cnn__encoder_1/dense_6/bias:0'] when minimizing the loss.\n",
      "19it [00:23,  1.20s/it]W0210 22:59:27.401839 139687631705920 optimizer_v2.py:979] Gradients does not exist for variables ['cnn__encoder_1/dense_6/kernel:0', 'cnn__encoder_1/dense_6/bias:0'] when minimizing the loss.\n",
      "20it [00:24,  1.19s/it]W0210 22:59:28.563669 139687631705920 optimizer_v2.py:979] Gradients does not exist for variables ['cnn__encoder_1/dense_6/kernel:0', 'cnn__encoder_1/dense_6/bias:0'] when minimizing the loss.\n",
      "21it [00:25,  1.18s/it]W0210 22:59:29.726041 139687631705920 optimizer_v2.py:979] Gradients does not exist for variables ['cnn__encoder_1/dense_6/kernel:0', 'cnn__encoder_1/dense_6/bias:0'] when minimizing the loss.\n",
      "22it [00:26,  1.17s/it]W0210 22:59:31.030802 139687631705920 optimizer_v2.py:979] Gradients does not exist for variables ['cnn__encoder_1/dense_6/kernel:0', 'cnn__encoder_1/dense_6/bias:0'] when minimizing the loss.\n",
      "23it [00:28,  1.21s/it]W0210 22:59:32.191848 139687631705920 optimizer_v2.py:979] Gradients does not exist for variables ['cnn__encoder_1/dense_6/kernel:0', 'cnn__encoder_1/dense_6/bias:0'] when minimizing the loss.\n",
      "24it [00:29,  1.20s/it]W0210 22:59:33.353374 139687631705920 optimizer_v2.py:979] Gradients does not exist for variables ['cnn__encoder_1/dense_6/kernel:0', 'cnn__encoder_1/dense_6/bias:0'] when minimizing the loss.\n",
      "25it [00:30,  1.19s/it]W0210 22:59:34.515000 139687631705920 optimizer_v2.py:979] Gradients does not exist for variables ['cnn__encoder_1/dense_6/kernel:0', 'cnn__encoder_1/dense_6/bias:0'] when minimizing the loss.\n",
      "26it [00:31,  1.21s/it]\n",
      "0it [00:00, ?it/s]"
     ]
    },
    {
     "name": "stdout",
     "output_type": "stream",
     "text": [
      "Epoch 1 Loss 98.789062\n",
      "Time taken for 1 epoch 31.619142532348633 sec\n",
      "\n"
     ]
    },
    {
     "name": "stderr",
     "output_type": "stream",
     "text": [
      "W0210 22:59:36.078948 139687631705920 optimizer_v2.py:979] Gradients does not exist for variables ['cnn__encoder_1/dense_6/kernel:0', 'cnn__encoder_1/dense_6/bias:0'] when minimizing the loss.\n",
      "1it [00:01,  1.52s/it]"
     ]
    },
    {
     "name": "stdout",
     "output_type": "stream",
     "text": [
      "Epoch 2 Batch 0 Loss 3.1327\n"
     ]
    },
    {
     "name": "stderr",
     "output_type": "stream",
     "text": [
      "W0210 22:59:37.248324 139687631705920 optimizer_v2.py:979] Gradients does not exist for variables ['cnn__encoder_1/dense_6/kernel:0', 'cnn__encoder_1/dense_6/bias:0'] when minimizing the loss.\n",
      "2it [00:02,  1.41s/it]W0210 22:59:38.559817 139687631705920 optimizer_v2.py:979] Gradients does not exist for variables ['cnn__encoder_1/dense_6/kernel:0', 'cnn__encoder_1/dense_6/bias:0'] when minimizing the loss.\n",
      "3it [00:03,  1.38s/it]W0210 22:59:39.721128 139687631705920 optimizer_v2.py:979] Gradients does not exist for variables ['cnn__encoder_1/dense_6/kernel:0', 'cnn__encoder_1/dense_6/bias:0'] when minimizing the loss.\n",
      "4it [00:05,  1.32s/it]W0210 22:59:40.884688 139687631705920 optimizer_v2.py:979] Gradients does not exist for variables ['cnn__encoder_1/dense_6/kernel:0', 'cnn__encoder_1/dense_6/bias:0'] when minimizing the loss.\n",
      "5it [00:06,  1.27s/it]W0210 22:59:42.046358 139687631705920 optimizer_v2.py:979] Gradients does not exist for variables ['cnn__encoder_1/dense_6/kernel:0', 'cnn__encoder_1/dense_6/bias:0'] when minimizing the loss.\n",
      "6it [00:07,  1.24s/it]W0210 22:59:43.209047 139687631705920 optimizer_v2.py:979] Gradients does not exist for variables ['cnn__encoder_1/dense_6/kernel:0', 'cnn__encoder_1/dense_6/bias:0'] when minimizing the loss.\n",
      "7it [00:08,  1.22s/it]W0210 22:59:44.375218 139687631705920 optimizer_v2.py:979] Gradients does not exist for variables ['cnn__encoder_1/dense_6/kernel:0', 'cnn__encoder_1/dense_6/bias:0'] when minimizing the loss.\n",
      "8it [00:09,  1.20s/it]W0210 22:59:45.685328 139687631705920 optimizer_v2.py:979] Gradients does not exist for variables ['cnn__encoder_1/dense_6/kernel:0', 'cnn__encoder_1/dense_6/bias:0'] when minimizing the loss.\n",
      "9it [00:11,  1.23s/it]W0210 22:59:46.849286 139687631705920 optimizer_v2.py:979] Gradients does not exist for variables ['cnn__encoder_1/dense_6/kernel:0', 'cnn__encoder_1/dense_6/bias:0'] when minimizing the loss.\n",
      "10it [00:12,  1.21s/it]W0210 22:59:48.014072 139687631705920 optimizer_v2.py:979] Gradients does not exist for variables ['cnn__encoder_1/dense_6/kernel:0', 'cnn__encoder_1/dense_6/bias:0'] when minimizing the loss.\n",
      "11it [00:13,  1.20s/it]W0210 22:59:49.177028 139687631705920 optimizer_v2.py:979] Gradients does not exist for variables ['cnn__encoder_1/dense_6/kernel:0', 'cnn__encoder_1/dense_6/bias:0'] when minimizing the loss.\n",
      "12it [00:14,  1.19s/it]W0210 22:59:50.342223 139687631705920 optimizer_v2.py:979] Gradients does not exist for variables ['cnn__encoder_1/dense_6/kernel:0', 'cnn__encoder_1/dense_6/bias:0'] when minimizing the loss.\n",
      "13it [00:15,  1.18s/it]W0210 22:59:51.506325 139687631705920 optimizer_v2.py:979] Gradients does not exist for variables ['cnn__encoder_1/dense_6/kernel:0', 'cnn__encoder_1/dense_6/bias:0'] when minimizing the loss.\n",
      "14it [00:16,  1.18s/it]W0210 22:59:52.815415 139687631705920 optimizer_v2.py:979] Gradients does not exist for variables ['cnn__encoder_1/dense_6/kernel:0', 'cnn__encoder_1/dense_6/bias:0'] when minimizing the loss.\n",
      "15it [00:18,  1.22s/it]W0210 22:59:53.980490 139687631705920 optimizer_v2.py:979] Gradients does not exist for variables ['cnn__encoder_1/dense_6/kernel:0', 'cnn__encoder_1/dense_6/bias:0'] when minimizing the loss.\n",
      "16it [00:19,  1.20s/it]W0210 22:59:55.147278 139687631705920 optimizer_v2.py:979] Gradients does not exist for variables ['cnn__encoder_1/dense_6/kernel:0', 'cnn__encoder_1/dense_6/bias:0'] when minimizing the loss.\n",
      "17it [00:20,  1.19s/it]W0210 22:59:56.313021 139687631705920 optimizer_v2.py:979] Gradients does not exist for variables ['cnn__encoder_1/dense_6/kernel:0', 'cnn__encoder_1/dense_6/bias:0'] when minimizing the loss.\n",
      "18it [00:21,  1.18s/it]W0210 22:59:57.477697 139687631705920 optimizer_v2.py:979] Gradients does not exist for variables ['cnn__encoder_1/dense_6/kernel:0', 'cnn__encoder_1/dense_6/bias:0'] when minimizing the loss.\n",
      "19it [00:22,  1.18s/it]W0210 22:59:58.670742 139687631705920 optimizer_v2.py:979] Gradients does not exist for variables ['cnn__encoder_1/dense_6/kernel:0', 'cnn__encoder_1/dense_6/bias:0'] when minimizing the loss.\n",
      "20it [00:24,  1.18s/it]W0210 22:59:59.986599 139687631705920 optimizer_v2.py:979] Gradients does not exist for variables ['cnn__encoder_1/dense_6/kernel:0', 'cnn__encoder_1/dense_6/bias:0'] when minimizing the loss.\n",
      "21it [00:25,  1.22s/it]W0210 23:00:01.148778 139687631705920 optimizer_v2.py:979] Gradients does not exist for variables ['cnn__encoder_1/dense_6/kernel:0', 'cnn__encoder_1/dense_6/bias:0'] when minimizing the loss.\n",
      "22it [00:26,  1.20s/it]W0210 23:00:02.313228 139687631705920 optimizer_v2.py:979] Gradients does not exist for variables ['cnn__encoder_1/dense_6/kernel:0', 'cnn__encoder_1/dense_6/bias:0'] when minimizing the loss.\n",
      "23it [00:27,  1.19s/it]W0210 23:00:03.476665 139687631705920 optimizer_v2.py:979] Gradients does not exist for variables ['cnn__encoder_1/dense_6/kernel:0', 'cnn__encoder_1/dense_6/bias:0'] when minimizing the loss.\n",
      "24it [00:28,  1.18s/it]W0210 23:00:04.639074 139687631705920 optimizer_v2.py:979] Gradients does not exist for variables ['cnn__encoder_1/dense_6/kernel:0', 'cnn__encoder_1/dense_6/bias:0'] when minimizing the loss.\n",
      "25it [00:30,  1.18s/it]W0210 23:00:05.803549 139687631705920 optimizer_v2.py:979] Gradients does not exist for variables ['cnn__encoder_1/dense_6/kernel:0', 'cnn__encoder_1/dense_6/bias:0'] when minimizing the loss.\n",
      "26it [00:31,  1.20s/it]\n",
      "0it [00:00, ?it/s]"
     ]
    },
    {
     "name": "stdout",
     "output_type": "stream",
     "text": [
      "Epoch 2 Loss 72.211014\n",
      "Time taken for 1 epoch 31.251070261001587 sec\n",
      "\n"
     ]
    },
    {
     "name": "stderr",
     "output_type": "stream",
     "text": [
      "W0210 23:00:07.466242 139687631705920 optimizer_v2.py:979] Gradients does not exist for variables ['cnn__encoder_1/dense_6/kernel:0', 'cnn__encoder_1/dense_6/bias:0'] when minimizing the loss.\n",
      "1it [00:01,  1.65s/it]"
     ]
    },
    {
     "name": "stdout",
     "output_type": "stream",
     "text": [
      "Epoch 3 Batch 0 Loss 1.9787\n"
     ]
    },
    {
     "name": "stderr",
     "output_type": "stream",
     "text": [
      "W0210 23:00:08.636275 139687631705920 optimizer_v2.py:979] Gradients does not exist for variables ['cnn__encoder_1/dense_6/kernel:0', 'cnn__encoder_1/dense_6/bias:0'] when minimizing the loss.\n",
      "2it [00:02,  1.51s/it]W0210 23:00:09.801339 139687631705920 optimizer_v2.py:979] Gradients does not exist for variables ['cnn__encoder_1/dense_6/kernel:0', 'cnn__encoder_1/dense_6/bias:0'] when minimizing the loss.\n",
      "3it [00:03,  1.41s/it]W0210 23:00:10.966423 139687631705920 optimizer_v2.py:979] Gradients does not exist for variables ['cnn__encoder_1/dense_6/kernel:0', 'cnn__encoder_1/dense_6/bias:0'] when minimizing the loss.\n",
      "4it [00:05,  1.33s/it]W0210 23:00:12.140205 139687631705920 optimizer_v2.py:979] Gradients does not exist for variables ['cnn__encoder_1/dense_6/kernel:0', 'cnn__encoder_1/dense_6/bias:0'] when minimizing the loss.\n",
      "5it [00:06,  1.29s/it]W0210 23:00:13.323706 139687631705920 optimizer_v2.py:979] Gradients does not exist for variables ['cnn__encoder_1/dense_6/kernel:0', 'cnn__encoder_1/dense_6/bias:0'] when minimizing the loss.\n",
      "6it [00:07,  1.25s/it]W0210 23:00:14.630395 139687631705920 optimizer_v2.py:979] Gradients does not exist for variables ['cnn__encoder_1/dense_6/kernel:0', 'cnn__encoder_1/dense_6/bias:0'] when minimizing the loss.\n",
      "7it [00:08,  1.27s/it]W0210 23:00:15.800873 139687631705920 optimizer_v2.py:979] Gradients does not exist for variables ['cnn__encoder_1/dense_6/kernel:0', 'cnn__encoder_1/dense_6/bias:0'] when minimizing the loss.\n",
      "8it [00:09,  1.24s/it]W0210 23:00:16.974657 139687631705920 optimizer_v2.py:979] Gradients does not exist for variables ['cnn__encoder_1/dense_6/kernel:0', 'cnn__encoder_1/dense_6/bias:0'] when minimizing the loss.\n",
      "9it [00:11,  1.22s/it]W0210 23:00:18.138060 139687631705920 optimizer_v2.py:979] Gradients does not exist for variables ['cnn__encoder_1/dense_6/kernel:0', 'cnn__encoder_1/dense_6/bias:0'] when minimizing the loss.\n",
      "10it [00:12,  1.20s/it]W0210 23:00:19.299620 139687631705920 optimizer_v2.py:979] Gradients does not exist for variables ['cnn__encoder_1/dense_6/kernel:0', 'cnn__encoder_1/dense_6/bias:0'] when minimizing the loss.\n",
      "11it [00:13,  1.19s/it]W0210 23:00:20.471090 139687631705920 optimizer_v2.py:979] Gradients does not exist for variables ['cnn__encoder_1/dense_6/kernel:0', 'cnn__encoder_1/dense_6/bias:0'] when minimizing the loss.\n",
      "12it [00:14,  1.19s/it]W0210 23:00:21.801201 139687631705920 optimizer_v2.py:979] Gradients does not exist for variables ['cnn__encoder_1/dense_6/kernel:0', 'cnn__encoder_1/dense_6/bias:0'] when minimizing the loss.\n",
      "13it [00:15,  1.23s/it]W0210 23:00:22.973855 139687631705920 optimizer_v2.py:979] Gradients does not exist for variables ['cnn__encoder_1/dense_6/kernel:0', 'cnn__encoder_1/dense_6/bias:0'] when minimizing the loss.\n",
      "14it [00:17,  1.21s/it]W0210 23:00:24.136094 139687631705920 optimizer_v2.py:979] Gradients does not exist for variables ['cnn__encoder_1/dense_6/kernel:0', 'cnn__encoder_1/dense_6/bias:0'] when minimizing the loss.\n",
      "15it [00:18,  1.20s/it]W0210 23:00:25.297498 139687631705920 optimizer_v2.py:979] Gradients does not exist for variables ['cnn__encoder_1/dense_6/kernel:0', 'cnn__encoder_1/dense_6/bias:0'] when minimizing the loss.\n",
      "16it [00:19,  1.19s/it]W0210 23:00:26.460328 139687631705920 optimizer_v2.py:979] Gradients does not exist for variables ['cnn__encoder_1/dense_6/kernel:0', 'cnn__encoder_1/dense_6/bias:0'] when minimizing the loss.\n",
      "17it [00:20,  1.18s/it]W0210 23:00:27.770380 139687631705920 optimizer_v2.py:979] Gradients does not exist for variables ['cnn__encoder_1/dense_6/kernel:0', 'cnn__encoder_1/dense_6/bias:0'] when minimizing the loss.\n",
      "18it [00:21,  1.22s/it]W0210 23:00:28.934230 139687631705920 optimizer_v2.py:979] Gradients does not exist for variables ['cnn__encoder_1/dense_6/kernel:0', 'cnn__encoder_1/dense_6/bias:0'] when minimizing the loss.\n",
      "19it [00:23,  1.20s/it]W0210 23:00:30.097971 139687631705920 optimizer_v2.py:979] Gradients does not exist for variables ['cnn__encoder_1/dense_6/kernel:0', 'cnn__encoder_1/dense_6/bias:0'] when minimizing the loss.\n",
      "20it [00:24,  1.19s/it]W0210 23:00:31.260862 139687631705920 optimizer_v2.py:979] Gradients does not exist for variables ['cnn__encoder_1/dense_6/kernel:0', 'cnn__encoder_1/dense_6/bias:0'] when minimizing the loss.\n",
      "21it [00:25,  1.18s/it]W0210 23:00:32.425056 139687631705920 optimizer_v2.py:979] Gradients does not exist for variables ['cnn__encoder_1/dense_6/kernel:0', 'cnn__encoder_1/dense_6/bias:0'] when minimizing the loss.\n",
      "22it [00:26,  1.18s/it]W0210 23:00:33.589244 139687631705920 optimizer_v2.py:979] Gradients does not exist for variables ['cnn__encoder_1/dense_6/kernel:0', 'cnn__encoder_1/dense_6/bias:0'] when minimizing the loss.\n",
      "23it [00:27,  1.17s/it]W0210 23:00:34.900937 139687631705920 optimizer_v2.py:979] Gradients does not exist for variables ['cnn__encoder_1/dense_6/kernel:0', 'cnn__encoder_1/dense_6/bias:0'] when minimizing the loss.\n",
      "24it [00:29,  1.21s/it]W0210 23:00:36.066429 139687631705920 optimizer_v2.py:979] Gradients does not exist for variables ['cnn__encoder_1/dense_6/kernel:0', 'cnn__encoder_1/dense_6/bias:0'] when minimizing the loss.\n",
      "25it [00:30,  1.20s/it]W0210 23:00:37.228570 139687631705920 optimizer_v2.py:979] Gradients does not exist for variables ['cnn__encoder_1/dense_6/kernel:0', 'cnn__encoder_1/dense_6/bias:0'] when minimizing the loss.\n",
      "26it [00:31,  1.21s/it]\n",
      "0it [00:00, ?it/s]"
     ]
    },
    {
     "name": "stdout",
     "output_type": "stream",
     "text": [
      "Epoch 3 Loss 53.423275\n",
      "Time taken for 1 epoch 31.42484164237976 sec\n",
      "\n"
     ]
    },
    {
     "name": "stderr",
     "output_type": "stream",
     "text": [
      "W0210 23:00:38.737262 139687631705920 optimizer_v2.py:979] Gradients does not exist for variables ['cnn__encoder_1/dense_6/kernel:0', 'cnn__encoder_1/dense_6/bias:0'] when minimizing the loss.\n",
      "1it [00:01,  1.50s/it]"
     ]
    },
    {
     "name": "stdout",
     "output_type": "stream",
     "text": [
      "Epoch 4 Batch 0 Loss 1.8880\n"
     ]
    },
    {
     "name": "stderr",
     "output_type": "stream",
     "text": [
      "W0210 23:00:39.920541 139687631705920 optimizer_v2.py:979] Gradients does not exist for variables ['cnn__encoder_1/dense_6/kernel:0', 'cnn__encoder_1/dense_6/bias:0'] when minimizing the loss.\n",
      "2it [00:02,  1.40s/it]W0210 23:00:41.086898 139687631705920 optimizer_v2.py:979] Gradients does not exist for variables ['cnn__encoder_1/dense_6/kernel:0', 'cnn__encoder_1/dense_6/bias:0'] when minimizing the loss.\n",
      "3it [00:03,  1.33s/it]W0210 23:00:42.401441 139687631705920 optimizer_v2.py:979] Gradients does not exist for variables ['cnn__encoder_1/dense_6/kernel:0', 'cnn__encoder_1/dense_6/bias:0'] when minimizing the loss.\n",
      "4it [00:05,  1.33s/it]W0210 23:00:43.569807 139687631705920 optimizer_v2.py:979] Gradients does not exist for variables ['cnn__encoder_1/dense_6/kernel:0', 'cnn__encoder_1/dense_6/bias:0'] when minimizing the loss.\n",
      "5it [00:06,  1.28s/it]W0210 23:00:44.736435 139687631705920 optimizer_v2.py:979] Gradients does not exist for variables ['cnn__encoder_1/dense_6/kernel:0', 'cnn__encoder_1/dense_6/bias:0'] when minimizing the loss.\n",
      "6it [00:07,  1.25s/it]W0210 23:00:45.901711 139687631705920 optimizer_v2.py:979] Gradients does not exist for variables ['cnn__encoder_1/dense_6/kernel:0', 'cnn__encoder_1/dense_6/bias:0'] when minimizing the loss.\n",
      "7it [00:08,  1.22s/it]W0210 23:00:47.066183 139687631705920 optimizer_v2.py:979] Gradients does not exist for variables ['cnn__encoder_1/dense_6/kernel:0', 'cnn__encoder_1/dense_6/bias:0'] when minimizing the loss.\n",
      "8it [00:09,  1.20s/it]W0210 23:00:48.230622 139687631705920 optimizer_v2.py:979] Gradients does not exist for variables ['cnn__encoder_1/dense_6/kernel:0', 'cnn__encoder_1/dense_6/bias:0'] when minimizing the loss.\n",
      "9it [00:10,  1.19s/it]W0210 23:00:49.540321 139687631705920 optimizer_v2.py:979] Gradients does not exist for variables ['cnn__encoder_1/dense_6/kernel:0', 'cnn__encoder_1/dense_6/bias:0'] when minimizing the loss.\n",
      "10it [00:12,  1.23s/it]W0210 23:00:50.705698 139687631705920 optimizer_v2.py:979] Gradients does not exist for variables ['cnn__encoder_1/dense_6/kernel:0', 'cnn__encoder_1/dense_6/bias:0'] when minimizing the loss.\n",
      "11it [00:13,  1.21s/it]W0210 23:00:51.868510 139687631705920 optimizer_v2.py:979] Gradients does not exist for variables ['cnn__encoder_1/dense_6/kernel:0', 'cnn__encoder_1/dense_6/bias:0'] when minimizing the loss.\n",
      "12it [00:14,  1.20s/it]W0210 23:00:53.031222 139687631705920 optimizer_v2.py:979] Gradients does not exist for variables ['cnn__encoder_1/dense_6/kernel:0', 'cnn__encoder_1/dense_6/bias:0'] when minimizing the loss.\n",
      "13it [00:15,  1.19s/it]W0210 23:00:54.198196 139687631705920 optimizer_v2.py:979] Gradients does not exist for variables ['cnn__encoder_1/dense_6/kernel:0', 'cnn__encoder_1/dense_6/bias:0'] when minimizing the loss.\n",
      "14it [00:16,  1.18s/it]W0210 23:00:55.367100 139687631705920 optimizer_v2.py:979] Gradients does not exist for variables ['cnn__encoder_1/dense_6/kernel:0', 'cnn__encoder_1/dense_6/bias:0'] when minimizing the loss.\n",
      "15it [00:18,  1.18s/it]W0210 23:00:56.682695 139687631705920 optimizer_v2.py:979] Gradients does not exist for variables ['cnn__encoder_1/dense_6/kernel:0', 'cnn__encoder_1/dense_6/bias:0'] when minimizing the loss.\n",
      "16it [00:19,  1.22s/it]W0210 23:00:57.862744 139687631705920 optimizer_v2.py:979] Gradients does not exist for variables ['cnn__encoder_1/dense_6/kernel:0', 'cnn__encoder_1/dense_6/bias:0'] when minimizing the loss.\n",
      "17it [00:20,  1.21s/it]W0210 23:00:59.036325 139687631705920 optimizer_v2.py:979] Gradients does not exist for variables ['cnn__encoder_1/dense_6/kernel:0', 'cnn__encoder_1/dense_6/bias:0'] when minimizing the loss.\n",
      "18it [00:21,  1.20s/it]W0210 23:01:00.212501 139687631705920 optimizer_v2.py:979] Gradients does not exist for variables ['cnn__encoder_1/dense_6/kernel:0', 'cnn__encoder_1/dense_6/bias:0'] when minimizing the loss.\n",
      "19it [00:22,  1.19s/it]W0210 23:01:01.386079 139687631705920 optimizer_v2.py:979] Gradients does not exist for variables ['cnn__encoder_1/dense_6/kernel:0', 'cnn__encoder_1/dense_6/bias:0'] when minimizing the loss.\n",
      "20it [00:24,  1.19s/it]W0210 23:01:02.561381 139687631705920 optimizer_v2.py:979] Gradients does not exist for variables ['cnn__encoder_1/dense_6/kernel:0', 'cnn__encoder_1/dense_6/bias:0'] when minimizing the loss.\n",
      "21it [00:25,  1.18s/it]W0210 23:01:03.732766 139687631705920 optimizer_v2.py:979] Gradients does not exist for variables ['cnn__encoder_1/dense_6/kernel:0', 'cnn__encoder_1/dense_6/bias:0'] when minimizing the loss.\n",
      "22it [00:26,  1.18s/it]W0210 23:01:05.069474 139687631705920 optimizer_v2.py:979] Gradients does not exist for variables ['cnn__encoder_1/dense_6/kernel:0', 'cnn__encoder_1/dense_6/bias:0'] when minimizing the loss.\n",
      "23it [00:27,  1.23s/it]W0210 23:01:06.254003 139687631705920 optimizer_v2.py:979] Gradients does not exist for variables ['cnn__encoder_1/dense_6/kernel:0', 'cnn__encoder_1/dense_6/bias:0'] when minimizing the loss.\n",
      "24it [00:29,  1.21s/it]W0210 23:01:07.436414 139687631705920 optimizer_v2.py:979] Gradients does not exist for variables ['cnn__encoder_1/dense_6/kernel:0', 'cnn__encoder_1/dense_6/bias:0'] when minimizing the loss.\n",
      "25it [00:30,  1.20s/it]W0210 23:01:08.608156 139687631705920 optimizer_v2.py:979] Gradients does not exist for variables ['cnn__encoder_1/dense_6/kernel:0', 'cnn__encoder_1/dense_6/bias:0'] when minimizing the loss.\n",
      "26it [00:31,  1.21s/it]\n",
      "0it [00:00, ?it/s]"
     ]
    },
    {
     "name": "stdout",
     "output_type": "stream",
     "text": [
      "Epoch 4 Loss 52.314682\n",
      "Time taken for 1 epoch 31.379693746566772 sec\n",
      "\n"
     ]
    },
    {
     "name": "stderr",
     "output_type": "stream",
     "text": [
      "W0210 23:01:10.150508 139687631705920 optimizer_v2.py:979] Gradients does not exist for variables ['cnn__encoder_1/dense_6/kernel:0', 'cnn__encoder_1/dense_6/bias:0'] when minimizing the loss.\n",
      "1it [00:01,  1.53s/it]"
     ]
    },
    {
     "name": "stdout",
     "output_type": "stream",
     "text": [
      "Epoch 5 Batch 0 Loss 1.8880\n"
     ]
    },
    {
     "name": "stderr",
     "output_type": "stream",
     "text": [
      "W0210 23:01:11.479221 139687631705920 optimizer_v2.py:979] Gradients does not exist for variables ['cnn__encoder_1/dense_6/kernel:0', 'cnn__encoder_1/dense_6/bias:0'] when minimizing the loss.\n",
      "2it [00:02,  1.47s/it]W0210 23:01:12.665232 139687631705920 optimizer_v2.py:979] Gradients does not exist for variables ['cnn__encoder_1/dense_6/kernel:0', 'cnn__encoder_1/dense_6/bias:0'] when minimizing the loss.\n",
      "3it [00:04,  1.39s/it]W0210 23:01:13.835566 139687631705920 optimizer_v2.py:979] Gradients does not exist for variables ['cnn__encoder_1/dense_6/kernel:0', 'cnn__encoder_1/dense_6/bias:0'] when minimizing the loss.\n",
      "4it [00:05,  1.32s/it]W0210 23:01:14.998605 139687631705920 optimizer_v2.py:979] Gradients does not exist for variables ['cnn__encoder_1/dense_6/kernel:0', 'cnn__encoder_1/dense_6/bias:0'] when minimizing the loss.\n",
      "5it [00:06,  1.27s/it]W0210 23:01:16.162382 139687631705920 optimizer_v2.py:979] Gradients does not exist for variables ['cnn__encoder_1/dense_6/kernel:0', 'cnn__encoder_1/dense_6/bias:0'] when minimizing the loss.\n",
      "6it [00:07,  1.24s/it]W0210 23:01:17.330033 139687631705920 optimizer_v2.py:979] Gradients does not exist for variables ['cnn__encoder_1/dense_6/kernel:0', 'cnn__encoder_1/dense_6/bias:0'] when minimizing the loss.\n",
      "7it [00:08,  1.22s/it]W0210 23:01:18.642434 139687631705920 optimizer_v2.py:979] Gradients does not exist for variables ['cnn__encoder_1/dense_6/kernel:0', 'cnn__encoder_1/dense_6/bias:0'] when minimizing the loss.\n",
      "8it [00:10,  1.25s/it]W0210 23:01:19.807908 139687631705920 optimizer_v2.py:979] Gradients does not exist for variables ['cnn__encoder_1/dense_6/kernel:0', 'cnn__encoder_1/dense_6/bias:0'] when minimizing the loss.\n",
      "9it [00:11,  1.22s/it]W0210 23:01:20.974285 139687631705920 optimizer_v2.py:979] Gradients does not exist for variables ['cnn__encoder_1/dense_6/kernel:0', 'cnn__encoder_1/dense_6/bias:0'] when minimizing the loss.\n",
      "10it [00:12,  1.21s/it]W0210 23:01:22.138054 139687631705920 optimizer_v2.py:979] Gradients does not exist for variables ['cnn__encoder_1/dense_6/kernel:0', 'cnn__encoder_1/dense_6/bias:0'] when minimizing the loss.\n",
      "11it [00:13,  1.19s/it]W0210 23:01:23.303387 139687631705920 optimizer_v2.py:979] Gradients does not exist for variables ['cnn__encoder_1/dense_6/kernel:0', 'cnn__encoder_1/dense_6/bias:0'] when minimizing the loss.\n",
      "12it [00:14,  1.18s/it]W0210 23:01:24.469866 139687631705920 optimizer_v2.py:979] Gradients does not exist for variables ['cnn__encoder_1/dense_6/kernel:0', 'cnn__encoder_1/dense_6/bias:0'] when minimizing the loss.\n",
      "13it [00:15,  1.18s/it]W0210 23:01:25.781866 139687631705920 optimizer_v2.py:979] Gradients does not exist for variables ['cnn__encoder_1/dense_6/kernel:0', 'cnn__encoder_1/dense_6/bias:0'] when minimizing the loss.\n",
      "14it [00:17,  1.22s/it]W0210 23:01:26.946944 139687631705920 optimizer_v2.py:979] Gradients does not exist for variables ['cnn__encoder_1/dense_6/kernel:0', 'cnn__encoder_1/dense_6/bias:0'] when minimizing the loss.\n",
      "15it [00:18,  1.20s/it]W0210 23:01:28.110553 139687631705920 optimizer_v2.py:979] Gradients does not exist for variables ['cnn__encoder_1/dense_6/kernel:0', 'cnn__encoder_1/dense_6/bias:0'] when minimizing the loss.\n",
      "16it [00:19,  1.19s/it]W0210 23:01:29.276138 139687631705920 optimizer_v2.py:979] Gradients does not exist for variables ['cnn__encoder_1/dense_6/kernel:0', 'cnn__encoder_1/dense_6/bias:0'] when minimizing the loss.\n",
      "17it [00:20,  1.18s/it]W0210 23:01:30.440639 139687631705920 optimizer_v2.py:979] Gradients does not exist for variables ['cnn__encoder_1/dense_6/kernel:0', 'cnn__encoder_1/dense_6/bias:0'] when minimizing the loss.\n",
      "18it [00:21,  1.18s/it]W0210 23:01:31.605338 139687631705920 optimizer_v2.py:979] Gradients does not exist for variables ['cnn__encoder_1/dense_6/kernel:0', 'cnn__encoder_1/dense_6/bias:0'] when minimizing the loss.\n",
      "19it [00:22,  1.17s/it]W0210 23:01:32.916382 139687631705920 optimizer_v2.py:979] Gradients does not exist for variables ['cnn__encoder_1/dense_6/kernel:0', 'cnn__encoder_1/dense_6/bias:0'] when minimizing the loss.\n",
      "20it [00:24,  1.22s/it]W0210 23:01:34.081908 139687631705920 optimizer_v2.py:979] Gradients does not exist for variables ['cnn__encoder_1/dense_6/kernel:0', 'cnn__encoder_1/dense_6/bias:0'] when minimizing the loss.\n",
      "21it [00:25,  1.20s/it]W0210 23:01:35.246026 139687631705920 optimizer_v2.py:979] Gradients does not exist for variables ['cnn__encoder_1/dense_6/kernel:0', 'cnn__encoder_1/dense_6/bias:0'] when minimizing the loss.\n",
      "22it [00:26,  1.19s/it]W0210 23:01:36.409341 139687631705920 optimizer_v2.py:979] Gradients does not exist for variables ['cnn__encoder_1/dense_6/kernel:0', 'cnn__encoder_1/dense_6/bias:0'] when minimizing the loss.\n",
      "23it [00:27,  1.18s/it]W0210 23:01:37.574327 139687631705920 optimizer_v2.py:979] Gradients does not exist for variables ['cnn__encoder_1/dense_6/kernel:0', 'cnn__encoder_1/dense_6/bias:0'] when minimizing the loss.\n",
      "24it [00:28,  1.18s/it]W0210 23:01:38.734548 139687631705920 optimizer_v2.py:979] Gradients does not exist for variables ['cnn__encoder_1/dense_6/kernel:0', 'cnn__encoder_1/dense_6/bias:0'] when minimizing the loss.\n",
      "25it [00:30,  1.17s/it]W0210 23:01:40.042311 139687631705920 optimizer_v2.py:979] Gradients does not exist for variables ['cnn__encoder_1/dense_6/kernel:0', 'cnn__encoder_1/dense_6/bias:0'] when minimizing the loss.\n",
      "26it [00:31,  1.21s/it]\n",
      "0it [00:00, ?it/s]"
     ]
    },
    {
     "name": "stdout",
     "output_type": "stream",
     "text": [
      "Epoch 5 Loss 52.103291\n",
      "Time taken for 1 epoch 31.433565378189087 sec\n",
      "\n"
     ]
    },
    {
     "name": "stderr",
     "output_type": "stream",
     "text": [
      "W0210 23:01:41.552867 139687631705920 optimizer_v2.py:979] Gradients does not exist for variables ['cnn__encoder_1/dense_6/kernel:0', 'cnn__encoder_1/dense_6/bias:0'] when minimizing the loss.\n",
      "1it [00:01,  1.50s/it]"
     ]
    },
    {
     "name": "stdout",
     "output_type": "stream",
     "text": [
      "Epoch 6 Batch 0 Loss 1.8917\n"
     ]
    },
    {
     "name": "stderr",
     "output_type": "stream",
     "text": [
      "W0210 23:01:42.716890 139687631705920 optimizer_v2.py:979] Gradients does not exist for variables ['cnn__encoder_1/dense_6/kernel:0', 'cnn__encoder_1/dense_6/bias:0'] when minimizing the loss.\n",
      "2it [00:02,  1.40s/it]W0210 23:01:43.881464 139687631705920 optimizer_v2.py:979] Gradients does not exist for variables ['cnn__encoder_1/dense_6/kernel:0', 'cnn__encoder_1/dense_6/bias:0'] when minimizing the loss.\n",
      "3it [00:03,  1.33s/it]W0210 23:01:45.049796 139687631705920 optimizer_v2.py:979] Gradients does not exist for variables ['cnn__encoder_1/dense_6/kernel:0', 'cnn__encoder_1/dense_6/bias:0'] when minimizing the loss.\n",
      "4it [00:04,  1.28s/it]W0210 23:01:46.213550 139687631705920 optimizer_v2.py:979] Gradients does not exist for variables ['cnn__encoder_1/dense_6/kernel:0', 'cnn__encoder_1/dense_6/bias:0'] when minimizing the loss.\n",
      "5it [00:06,  1.25s/it]W0210 23:01:47.523134 139687631705920 optimizer_v2.py:979] Gradients does not exist for variables ['cnn__encoder_1/dense_6/kernel:0', 'cnn__encoder_1/dense_6/bias:0'] when minimizing the loss.\n",
      "6it [00:07,  1.27s/it]W0210 23:01:48.690357 139687631705920 optimizer_v2.py:979] Gradients does not exist for variables ['cnn__encoder_1/dense_6/kernel:0', 'cnn__encoder_1/dense_6/bias:0'] when minimizing the loss.\n",
      "7it [00:08,  1.24s/it]W0210 23:01:49.856435 139687631705920 optimizer_v2.py:979] Gradients does not exist for variables ['cnn__encoder_1/dense_6/kernel:0', 'cnn__encoder_1/dense_6/bias:0'] when minimizing the loss.\n",
      "8it [00:09,  1.21s/it]W0210 23:01:51.022527 139687631705920 optimizer_v2.py:979] Gradients does not exist for variables ['cnn__encoder_1/dense_6/kernel:0', 'cnn__encoder_1/dense_6/bias:0'] when minimizing the loss.\n",
      "9it [00:10,  1.20s/it]W0210 23:01:52.186352 139687631705920 optimizer_v2.py:979] Gradients does not exist for variables ['cnn__encoder_1/dense_6/kernel:0', 'cnn__encoder_1/dense_6/bias:0'] when minimizing the loss.\n",
      "10it [00:12,  1.19s/it]W0210 23:01:53.353970 139687631705920 optimizer_v2.py:979] Gradients does not exist for variables ['cnn__encoder_1/dense_6/kernel:0', 'cnn__encoder_1/dense_6/bias:0'] when minimizing the loss.\n",
      "11it [00:13,  1.18s/it]W0210 23:01:54.667938 139687631705920 optimizer_v2.py:979] Gradients does not exist for variables ['cnn__encoder_1/dense_6/kernel:0', 'cnn__encoder_1/dense_6/bias:0'] when minimizing the loss.\n",
      "12it [00:14,  1.22s/it]W0210 23:01:55.833712 139687631705920 optimizer_v2.py:979] Gradients does not exist for variables ['cnn__encoder_1/dense_6/kernel:0', 'cnn__encoder_1/dense_6/bias:0'] when minimizing the loss.\n",
      "13it [00:15,  1.21s/it]W0210 23:01:56.999917 139687631705920 optimizer_v2.py:979] Gradients does not exist for variables ['cnn__encoder_1/dense_6/kernel:0', 'cnn__encoder_1/dense_6/bias:0'] when minimizing the loss.\n",
      "14it [00:16,  1.19s/it]W0210 23:01:58.166916 139687631705920 optimizer_v2.py:979] Gradients does not exist for variables ['cnn__encoder_1/dense_6/kernel:0', 'cnn__encoder_1/dense_6/bias:0'] when minimizing the loss.\n",
      "15it [00:18,  1.19s/it]W0210 23:01:59.334115 139687631705920 optimizer_v2.py:979] Gradients does not exist for variables ['cnn__encoder_1/dense_6/kernel:0', 'cnn__encoder_1/dense_6/bias:0'] when minimizing the loss.\n",
      "16it [00:19,  1.18s/it]W0210 23:02:00.499870 139687631705920 optimizer_v2.py:979] Gradients does not exist for variables ['cnn__encoder_1/dense_6/kernel:0', 'cnn__encoder_1/dense_6/bias:0'] when minimizing the loss.\n",
      "17it [00:20,  1.18s/it]W0210 23:02:01.812094 139687631705920 optimizer_v2.py:979] Gradients does not exist for variables ['cnn__encoder_1/dense_6/kernel:0', 'cnn__encoder_1/dense_6/bias:0'] when minimizing the loss.\n",
      "18it [00:21,  1.22s/it]W0210 23:02:02.988873 139687631705920 optimizer_v2.py:979] Gradients does not exist for variables ['cnn__encoder_1/dense_6/kernel:0', 'cnn__encoder_1/dense_6/bias:0'] when minimizing the loss.\n",
      "19it [00:22,  1.20s/it]W0210 23:02:04.157708 139687631705920 optimizer_v2.py:979] Gradients does not exist for variables ['cnn__encoder_1/dense_6/kernel:0', 'cnn__encoder_1/dense_6/bias:0'] when minimizing the loss.\n",
      "20it [00:24,  1.19s/it]W0210 23:02:05.320934 139687631705920 optimizer_v2.py:979] Gradients does not exist for variables ['cnn__encoder_1/dense_6/kernel:0', 'cnn__encoder_1/dense_6/bias:0'] when minimizing the loss.\n",
      "21it [00:25,  1.18s/it]W0210 23:02:06.486228 139687631705920 optimizer_v2.py:979] Gradients does not exist for variables ['cnn__encoder_1/dense_6/kernel:0', 'cnn__encoder_1/dense_6/bias:0'] when minimizing the loss.\n",
      "22it [00:26,  1.18s/it]W0210 23:02:07.648162 139687631705920 optimizer_v2.py:979] Gradients does not exist for variables ['cnn__encoder_1/dense_6/kernel:0', 'cnn__encoder_1/dense_6/bias:0'] when minimizing the loss.\n",
      "23it [00:27,  1.17s/it]W0210 23:02:08.958504 139687631705920 optimizer_v2.py:979] Gradients does not exist for variables ['cnn__encoder_1/dense_6/kernel:0', 'cnn__encoder_1/dense_6/bias:0'] when minimizing the loss.\n",
      "24it [00:28,  1.21s/it]W0210 23:02:10.121859 139687631705920 optimizer_v2.py:979] Gradients does not exist for variables ['cnn__encoder_1/dense_6/kernel:0', 'cnn__encoder_1/dense_6/bias:0'] when minimizing the loss.\n",
      "25it [00:30,  1.20s/it]W0210 23:02:11.284974 139687631705920 optimizer_v2.py:979] Gradients does not exist for variables ['cnn__encoder_1/dense_6/kernel:0', 'cnn__encoder_1/dense_6/bias:0'] when minimizing the loss.\n",
      "26it [00:31,  1.20s/it]\n",
      "0it [00:00, ?it/s]"
     ]
    },
    {
     "name": "stdout",
     "output_type": "stream",
     "text": [
      "Epoch 6 Loss 52.030350\n",
      "Time taken for 1 epoch 31.272177934646606 sec\n",
      "\n"
     ]
    },
    {
     "name": "stderr",
     "output_type": "stream",
     "text": [
      "W0210 23:02:12.820463 139687631705920 optimizer_v2.py:979] Gradients does not exist for variables ['cnn__encoder_1/dense_6/kernel:0', 'cnn__encoder_1/dense_6/bias:0'] when minimizing the loss.\n",
      "1it [00:01,  1.50s/it]"
     ]
    },
    {
     "name": "stdout",
     "output_type": "stream",
     "text": [
      "Epoch 7 Batch 0 Loss 1.8934\n"
     ]
    },
    {
     "name": "stderr",
     "output_type": "stream",
     "text": [
      "W0210 23:02:13.980929 139687631705920 optimizer_v2.py:979] Gradients does not exist for variables ['cnn__encoder_1/dense_6/kernel:0', 'cnn__encoder_1/dense_6/bias:0'] when minimizing the loss.\n",
      "2it [00:02,  1.40s/it]W0210 23:02:15.142256 139687631705920 optimizer_v2.py:979] Gradients does not exist for variables ['cnn__encoder_1/dense_6/kernel:0', 'cnn__encoder_1/dense_6/bias:0'] when minimizing the loss.\n",
      "3it [00:03,  1.33s/it]W0210 23:02:16.452113 139687631705920 optimizer_v2.py:979] Gradients does not exist for variables ['cnn__encoder_1/dense_6/kernel:0', 'cnn__encoder_1/dense_6/bias:0'] when minimizing the loss.\n",
      "4it [00:05,  1.32s/it]W0210 23:02:17.612950 139687631705920 optimizer_v2.py:979] Gradients does not exist for variables ['cnn__encoder_1/dense_6/kernel:0', 'cnn__encoder_1/dense_6/bias:0'] when minimizing the loss.\n",
      "5it [00:06,  1.27s/it]W0210 23:02:18.774574 139687631705920 optimizer_v2.py:979] Gradients does not exist for variables ['cnn__encoder_1/dense_6/kernel:0', 'cnn__encoder_1/dense_6/bias:0'] when minimizing the loss.\n",
      "6it [00:07,  1.24s/it]W0210 23:02:19.935915 139687631705920 optimizer_v2.py:979] Gradients does not exist for variables ['cnn__encoder_1/dense_6/kernel:0', 'cnn__encoder_1/dense_6/bias:0'] when minimizing the loss.\n",
      "7it [00:08,  1.22s/it]W0210 23:02:21.112108 139687631705920 optimizer_v2.py:979] Gradients does not exist for variables ['cnn__encoder_1/dense_6/kernel:0', 'cnn__encoder_1/dense_6/bias:0'] when minimizing the loss.\n",
      "8it [00:09,  1.20s/it]W0210 23:02:22.272789 139687631705920 optimizer_v2.py:979] Gradients does not exist for variables ['cnn__encoder_1/dense_6/kernel:0', 'cnn__encoder_1/dense_6/bias:0'] when minimizing the loss.\n",
      "9it [00:10,  1.19s/it]W0210 23:02:23.581382 139687631705920 optimizer_v2.py:979] Gradients does not exist for variables ['cnn__encoder_1/dense_6/kernel:0', 'cnn__encoder_1/dense_6/bias:0'] when minimizing the loss.\n",
      "10it [00:12,  1.23s/it]W0210 23:02:24.742855 139687631705920 optimizer_v2.py:979] Gradients does not exist for variables ['cnn__encoder_1/dense_6/kernel:0', 'cnn__encoder_1/dense_6/bias:0'] when minimizing the loss.\n",
      "11it [00:13,  1.21s/it]W0210 23:02:25.903822 139687631705920 optimizer_v2.py:979] Gradients does not exist for variables ['cnn__encoder_1/dense_6/kernel:0', 'cnn__encoder_1/dense_6/bias:0'] when minimizing the loss.\n",
      "12it [00:14,  1.19s/it]W0210 23:02:27.064635 139687631705920 optimizer_v2.py:979] Gradients does not exist for variables ['cnn__encoder_1/dense_6/kernel:0', 'cnn__encoder_1/dense_6/bias:0'] when minimizing the loss.\n",
      "13it [00:15,  1.18s/it]W0210 23:02:28.225693 139687631705920 optimizer_v2.py:979] Gradients does not exist for variables ['cnn__encoder_1/dense_6/kernel:0', 'cnn__encoder_1/dense_6/bias:0'] when minimizing the loss.\n",
      "14it [00:16,  1.18s/it]W0210 23:02:29.387058 139687631705920 optimizer_v2.py:979] Gradients does not exist for variables ['cnn__encoder_1/dense_6/kernel:0', 'cnn__encoder_1/dense_6/bias:0'] when minimizing the loss.\n",
      "15it [00:18,  1.17s/it]W0210 23:02:30.694532 139687631705920 optimizer_v2.py:979] Gradients does not exist for variables ['cnn__encoder_1/dense_6/kernel:0', 'cnn__encoder_1/dense_6/bias:0'] when minimizing the loss.\n",
      "16it [00:19,  1.21s/it]W0210 23:02:31.856686 139687631705920 optimizer_v2.py:979] Gradients does not exist for variables ['cnn__encoder_1/dense_6/kernel:0', 'cnn__encoder_1/dense_6/bias:0'] when minimizing the loss.\n",
      "17it [00:20,  1.20s/it]W0210 23:02:33.021306 139687631705920 optimizer_v2.py:979] Gradients does not exist for variables ['cnn__encoder_1/dense_6/kernel:0', 'cnn__encoder_1/dense_6/bias:0'] when minimizing the loss.\n",
      "18it [00:21,  1.19s/it]W0210 23:02:34.185111 139687631705920 optimizer_v2.py:979] Gradients does not exist for variables ['cnn__encoder_1/dense_6/kernel:0', 'cnn__encoder_1/dense_6/bias:0'] when minimizing the loss.\n",
      "19it [00:22,  1.18s/it]W0210 23:02:35.349555 139687631705920 optimizer_v2.py:979] Gradients does not exist for variables ['cnn__encoder_1/dense_6/kernel:0', 'cnn__encoder_1/dense_6/bias:0'] when minimizing the loss.\n",
      "20it [00:24,  1.18s/it]W0210 23:02:36.513704 139687631705920 optimizer_v2.py:979] Gradients does not exist for variables ['cnn__encoder_1/dense_6/kernel:0', 'cnn__encoder_1/dense_6/bias:0'] when minimizing the loss.\n",
      "21it [00:25,  1.17s/it]W0210 23:02:37.823267 139687631705920 optimizer_v2.py:979] Gradients does not exist for variables ['cnn__encoder_1/dense_6/kernel:0', 'cnn__encoder_1/dense_6/bias:0'] when minimizing the loss.\n",
      "22it [00:26,  1.21s/it]W0210 23:02:38.986950 139687631705920 optimizer_v2.py:979] Gradients does not exist for variables ['cnn__encoder_1/dense_6/kernel:0', 'cnn__encoder_1/dense_6/bias:0'] when minimizing the loss.\n",
      "23it [00:27,  1.20s/it]W0210 23:02:40.150350 139687631705920 optimizer_v2.py:979] Gradients does not exist for variables ['cnn__encoder_1/dense_6/kernel:0', 'cnn__encoder_1/dense_6/bias:0'] when minimizing the loss.\n",
      "24it [00:28,  1.19s/it]W0210 23:02:41.313489 139687631705920 optimizer_v2.py:979] Gradients does not exist for variables ['cnn__encoder_1/dense_6/kernel:0', 'cnn__encoder_1/dense_6/bias:0'] when minimizing the loss.\n",
      "25it [00:29,  1.18s/it]W0210 23:02:42.477880 139687631705920 optimizer_v2.py:979] Gradients does not exist for variables ['cnn__encoder_1/dense_6/kernel:0', 'cnn__encoder_1/dense_6/bias:0'] when minimizing the loss.\n",
      "26it [00:31,  1.20s/it]\n",
      "0it [00:00, ?it/s]"
     ]
    },
    {
     "name": "stdout",
     "output_type": "stream",
     "text": [
      "Epoch 7 Loss 51.987473\n",
      "Time taken for 1 epoch 31.164012670516968 sec\n",
      "\n"
     ]
    },
    {
     "name": "stderr",
     "output_type": "stream",
     "text": [
      "W0210 23:02:43.987537 139687631705920 optimizer_v2.py:979] Gradients does not exist for variables ['cnn__encoder_1/dense_6/kernel:0', 'cnn__encoder_1/dense_6/bias:0'] when minimizing the loss.\n",
      "1it [00:01,  1.50s/it]"
     ]
    },
    {
     "name": "stdout",
     "output_type": "stream",
     "text": [
      "Epoch 8 Batch 0 Loss 1.8944\n"
     ]
    },
    {
     "name": "stderr",
     "output_type": "stream",
     "text": [
      "W0210 23:02:45.290378 139687631705920 optimizer_v2.py:979] Gradients does not exist for variables ['cnn__encoder_1/dense_6/kernel:0', 'cnn__encoder_1/dense_6/bias:0'] when minimizing the loss.\n",
      "2it [00:02,  1.44s/it]W0210 23:02:46.455057 139687631705920 optimizer_v2.py:979] Gradients does not exist for variables ['cnn__encoder_1/dense_6/kernel:0', 'cnn__encoder_1/dense_6/bias:0'] when minimizing the loss.\n",
      "3it [00:03,  1.36s/it]W0210 23:02:47.619931 139687631705920 optimizer_v2.py:979] Gradients does not exist for variables ['cnn__encoder_1/dense_6/kernel:0', 'cnn__encoder_1/dense_6/bias:0'] when minimizing the loss.\n",
      "4it [00:05,  1.30s/it]W0210 23:02:48.783938 139687631705920 optimizer_v2.py:979] Gradients does not exist for variables ['cnn__encoder_1/dense_6/kernel:0', 'cnn__encoder_1/dense_6/bias:0'] when minimizing the loss.\n",
      "5it [00:06,  1.26s/it]W0210 23:02:49.949466 139687631705920 optimizer_v2.py:979] Gradients does not exist for variables ['cnn__encoder_1/dense_6/kernel:0', 'cnn__encoder_1/dense_6/bias:0'] when minimizing the loss.\n",
      "6it [00:07,  1.23s/it]W0210 23:02:51.114118 139687631705920 optimizer_v2.py:979] Gradients does not exist for variables ['cnn__encoder_1/dense_6/kernel:0', 'cnn__encoder_1/dense_6/bias:0'] when minimizing the loss.\n",
      "7it [00:08,  1.21s/it]W0210 23:02:52.426226 139687631705920 optimizer_v2.py:979] Gradients does not exist for variables ['cnn__encoder_1/dense_6/kernel:0', 'cnn__encoder_1/dense_6/bias:0'] when minimizing the loss.\n",
      "8it [00:09,  1.24s/it]W0210 23:02:53.591243 139687631705920 optimizer_v2.py:979] Gradients does not exist for variables ['cnn__encoder_1/dense_6/kernel:0', 'cnn__encoder_1/dense_6/bias:0'] when minimizing the loss.\n",
      "9it [00:11,  1.22s/it]W0210 23:02:54.757758 139687631705920 optimizer_v2.py:979] Gradients does not exist for variables ['cnn__encoder_1/dense_6/kernel:0', 'cnn__encoder_1/dense_6/bias:0'] when minimizing the loss.\n",
      "10it [00:12,  1.20s/it]W0210 23:02:55.922387 139687631705920 optimizer_v2.py:979] Gradients does not exist for variables ['cnn__encoder_1/dense_6/kernel:0', 'cnn__encoder_1/dense_6/bias:0'] when minimizing the loss.\n",
      "11it [00:13,  1.19s/it]W0210 23:02:57.099420 139687631705920 optimizer_v2.py:979] Gradients does not exist for variables ['cnn__encoder_1/dense_6/kernel:0', 'cnn__encoder_1/dense_6/bias:0'] when minimizing the loss.\n",
      "12it [00:14,  1.19s/it]W0210 23:02:58.264328 139687631705920 optimizer_v2.py:979] Gradients does not exist for variables ['cnn__encoder_1/dense_6/kernel:0', 'cnn__encoder_1/dense_6/bias:0'] when minimizing the loss.\n",
      "13it [00:15,  1.18s/it]W0210 23:02:59.574085 139687631705920 optimizer_v2.py:979] Gradients does not exist for variables ['cnn__encoder_1/dense_6/kernel:0', 'cnn__encoder_1/dense_6/bias:0'] when minimizing the loss.\n",
      "14it [00:17,  1.22s/it]W0210 23:03:00.740751 139687631705920 optimizer_v2.py:979] Gradients does not exist for variables ['cnn__encoder_1/dense_6/kernel:0', 'cnn__encoder_1/dense_6/bias:0'] when minimizing the loss.\n",
      "15it [00:18,  1.20s/it]W0210 23:03:01.905884 139687631705920 optimizer_v2.py:979] Gradients does not exist for variables ['cnn__encoder_1/dense_6/kernel:0', 'cnn__encoder_1/dense_6/bias:0'] when minimizing the loss.\n",
      "16it [00:19,  1.19s/it]W0210 23:03:03.070266 139687631705920 optimizer_v2.py:979] Gradients does not exist for variables ['cnn__encoder_1/dense_6/kernel:0', 'cnn__encoder_1/dense_6/bias:0'] when minimizing the loss.\n",
      "17it [00:20,  1.18s/it]W0210 23:03:04.232626 139687631705920 optimizer_v2.py:979] Gradients does not exist for variables ['cnn__encoder_1/dense_6/kernel:0', 'cnn__encoder_1/dense_6/bias:0'] when minimizing the loss.\n",
      "18it [00:21,  1.18s/it]W0210 23:03:05.398846 139687631705920 optimizer_v2.py:979] Gradients does not exist for variables ['cnn__encoder_1/dense_6/kernel:0', 'cnn__encoder_1/dense_6/bias:0'] when minimizing the loss.\n",
      "19it [00:22,  1.17s/it]W0210 23:03:06.706538 139687631705920 optimizer_v2.py:979] Gradients does not exist for variables ['cnn__encoder_1/dense_6/kernel:0', 'cnn__encoder_1/dense_6/bias:0'] when minimizing the loss.\n",
      "20it [00:24,  1.21s/it]W0210 23:03:07.869946 139687631705920 optimizer_v2.py:979] Gradients does not exist for variables ['cnn__encoder_1/dense_6/kernel:0', 'cnn__encoder_1/dense_6/bias:0'] when minimizing the loss.\n",
      "21it [00:25,  1.20s/it]W0210 23:03:09.032188 139687631705920 optimizer_v2.py:979] Gradients does not exist for variables ['cnn__encoder_1/dense_6/kernel:0', 'cnn__encoder_1/dense_6/bias:0'] when minimizing the loss.\n",
      "22it [00:26,  1.19s/it]W0210 23:03:10.197991 139687631705920 optimizer_v2.py:979] Gradients does not exist for variables ['cnn__encoder_1/dense_6/kernel:0', 'cnn__encoder_1/dense_6/bias:0'] when minimizing the loss.\n",
      "23it [00:27,  1.18s/it]W0210 23:03:11.360453 139687631705920 optimizer_v2.py:979] Gradients does not exist for variables ['cnn__encoder_1/dense_6/kernel:0', 'cnn__encoder_1/dense_6/bias:0'] when minimizing the loss.\n",
      "24it [00:28,  1.18s/it]W0210 23:03:12.524982 139687631705920 optimizer_v2.py:979] Gradients does not exist for variables ['cnn__encoder_1/dense_6/kernel:0', 'cnn__encoder_1/dense_6/bias:0'] when minimizing the loss.\n",
      "25it [00:30,  1.17s/it]W0210 23:03:13.838929 139687631705920 optimizer_v2.py:979] Gradients does not exist for variables ['cnn__encoder_1/dense_6/kernel:0', 'cnn__encoder_1/dense_6/bias:0'] when minimizing the loss.\n",
      "26it [00:31,  1.21s/it]"
     ]
    },
    {
     "name": "stdout",
     "output_type": "stream",
     "text": [
      "Epoch 8 Loss 51.962730\n",
      "Time taken for 1 epoch 31.36051058769226 sec\n",
      "\n"
     ]
    },
    {
     "name": "stderr",
     "output_type": "stream",
     "text": [
      "\n"
     ]
    }
   ],
   "source": [
    "EPOCHS = 8\n",
    "\n",
    "for epoch in range(start_epoch, EPOCHS):\n",
    "    \n",
    "    start = time.time()\n",
    "    total_loss = 0\n",
    "\n",
    "    for (batch, (img_tensor, target)) in tqdm(enumerate(train_dataset)):\n",
    "        \n",
    "        batch_loss, t_loss = train_step(img_tensor, target)\n",
    "        total_loss += t_loss\n",
    "\n",
    "        if batch % 100 == 0:\n",
    "            print ('Epoch {} Batch {} Loss {:.4f}'.format(\n",
    "              epoch + 1, batch, batch_loss.numpy() / int(target.shape[1])))\n",
    "            \n",
    "        \n",
    "    # storing the epoch end loss value to plot later\n",
    "    loss_plot.append(total_loss)\n",
    "\n",
    "    if epoch % 5 == 0:\n",
    "        ckpt_manager.save()\n",
    "\n",
    "    print ('Epoch {} Loss {:.6f}'.format(epoch + 1, total_loss))\n",
    "    print ('Time taken for 1 epoch {} sec\\n'.format(time.time() - start))"
   ]
  },
  {
   "cell_type": "code",
   "execution_count": 37,
   "metadata": {},
   "outputs": [
    {
     "data": {
      "image/png": "[encoded data removed]",
      "text/plain": [
       "<Figure size 432x288 with 1 Axes>"
      ]
     },
     "metadata": {
      "needs_background": "light"
     },
     "output_type": "display_data"
    }
   ],
   "source": [
    "plt.plot(loss_plot)\n",
    "plt.xlabel('Epochs')\n",
    "plt.ylabel('Loss')\n",
    "plt.title('Loss Plot')\n",
    "plt.show()"
   ]
  },
  {
   "cell_type": "code",
   "execution_count": 38,
   "metadata": {},
   "outputs": [],
   "source": [
    "# @tf.function\n",
    "# def eval_step(img_tensor, target):\n",
    "#     \"\"\"\n",
    "#     basically same as train_step, but doesn't apply gradient \n",
    "#     \"\"\"\n",
    "    \n",
    "#     loss = 0\n",
    "\n",
    "#     # initializing the hidden state for each batch\n",
    "#     # because the captions are not related from image to image\n",
    "#     hidden = decoder.reset_state(batch_size=target.shape[0])\n",
    "\n",
    "#     ## TODO: allow using diffrent strategy for inititalizer ? \n",
    "#     decoder_input = tf.expand_dims([tokenizer.word_index['[START]']] * target.shape[0], 1)\n",
    "    \n",
    "    \n",
    "#     with tf.GradientTape() as tape:\n",
    "#         features = encoder(img_tensor)\n",
    "\n",
    "#         for i in range(1, target.shape[1]):\n",
    "            \n",
    "#             # passing the features through the decoder\n",
    "#             predictions, hidden, _ = decoder(decoder_input, features, hidden)\n",
    "\n",
    "#             loss += loss_function(target[:, i], predictions)\n",
    "            \n",
    "#             # using teacher forcing\n",
    "#             decoder_input = tf.expand_dims(target[:, i], 1)\n",
    "\n",
    "#     total_loss = (loss / int(target.shape[1]))\n",
    "    \n",
    "#     return loss, total_loss"
   ]
  },
  {
   "cell_type": "code",
   "execution_count": 39,
   "metadata": {},
   "outputs": [],
   "source": [
    "# ## Customized to enable multiple images, and incorporate PPLM framework\n",
    "\n",
    "\n",
    "# def custom_evaluate(image, supporting_images):\n",
    "    \n",
    "#     attention_plot = np.zeros((max_length, attention_features_shape))\n",
    "\n",
    "#     # initializing the hidden state for decoder\n",
    "#     hidden = decoder.reset_state(batch_size=1)\n",
    "\n",
    "#     # Extract image features\n",
    "#     temp_input = tf.expand_dims(load_image(image)[0], 0)\n",
    "#     img_tensor_val = image_features_extract_model(temp_input)\n",
    "#     img_tensor_val = tf.reshape(img_tensor_val, (img_tensor_val.shape[0], -1, img_tensor_val.shape[3]))\n",
    "\n",
    "#     features = encoder(img_tensor_val)\n",
    "    \n",
    "    \n",
    "#     ## TODO: extract features from supporting images\n",
    "#     ## TODO: average those features into single context vector\n",
    "    \n",
    "    \n",
    "#     ## TODO: allow using diffrent strategy for inititalizer ? \n",
    "#     ## TODO: BERT doesn't have word_index\n",
    "#     decoder_input = tf.expand_dims([tokenizer.word_index['[START]']], 0)\n",
    "#     result = []\n",
    "\n",
    "#     for i in range(max_length):\n",
    "#         \"\"\"\n",
    "#         Currently using inject method \n",
    "#         (image feature injected at every timestep)\n",
    "        \n",
    "#         TODO: test merge approach & pre, par inject\n",
    "#         \"\"\"\n",
    "        \n",
    "#         ## image feature inject's method\n",
    "#         predictions, hidden, attention_weights = decoder(decoder_input, features, hidden)\n",
    "        \n",
    "        \n",
    "#         ## TODO : apply PPLM here\n",
    "#         ## check loss (prediction - context vector of supporting images)\n",
    "#         ## apply gradient : hidden_state += diffrence(pred, supporting img vectors) (after n-iteration)\n",
    "#         ## re compute predictions\n",
    "        \n",
    "        \n",
    "#         attention_plot[i] = tf.reshape(attention_weights, (-1, )).numpy()\n",
    "\n",
    "#         predicted_id = tf.random.categorical(predictions, 1)[0][0].numpy()\n",
    "        \n",
    "        \n",
    "#         ## TODO: Allow using BERT tokenizer\n",
    "#         ## TODO: Revert predictions to index and words\n",
    "#         result.append(tokenizer.index_word[predicted_id])   # <<< return back id to text\n",
    "\n",
    "        \n",
    "#         if tokenizer.index_word[predicted_id] == '[END]':\n",
    "#             return result, attention_plot\n",
    "\n",
    "#         decoder_input = tf.expand_dims([predicted_id], 0)\n",
    "\n",
    "#     attention_plot = attention_plot[:len(result), :]\n",
    "#     return result, attention_plot"
   ]
  }
 ],
 "metadata": {
  "kernelspec": {
   "display_name": "Python 3",
   "language": "python",
   "name": "python3"
  },
  "language_info": {
   "codemirror_mode": {
    "name": "ipython",
    "version": 3
   },
   "file_extension": ".py",
   "mimetype": "text/x-python",
   "name": "python",
   "nbconvert_exporter": "python",
   "pygments_lexer": "ipython3",
   "version": "3.6.8"
  }
 },
 "nbformat": 4,
 "nbformat_minor": 2
}
